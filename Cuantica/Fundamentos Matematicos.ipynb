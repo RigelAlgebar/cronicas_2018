{
 "cells": [
  {
   "cell_type": "markdown",
   "metadata": {},
   "source": [
    "---\n",
    "<h1 style=\"color:#0027d6;\">Notacion de Dirac y Espacios Vectoriales</h1>"
   ]
  },
  {
   "cell_type": "markdown",
   "metadata": {},
   "source": [
    "* Cada ket | $\\psi\\rangle$ tiene un correspondiente bra $\\langle\\psi |$ y viceversa:\n",
    "\n",
    "$$\\mid\\psi\\rangle \\longleftrightarrow \\langle\\psi\\mid$$\n",
    "\n",
    "$$ a \\ \\mid\\psi\\rangle + b \\ \\mid\\phi\\rangle \\longleftrightarrow a^* \\langle\\psi\\mid + \\ b^* \\langle\\phi\\mid$$\n",
    "\n",
    "$$  \\mid a\\psi\\rangle  = a \\ \\mid\\psi\\rangle, \\hspace{2cm} \\langle\\psi a\\mid = a^* \\langle\\psi\\mid$$\n",
    " "
   ]
  },
  {
   "cell_type": "markdown",
   "metadata": {},
   "source": [
    "* Propiedades del producto escalar\n",
    "\n",
    "$$ \\langle\\psi\\mid\\phi\\rangle \\ \\neq \\ \\langle\\phi\\mid\\psi\\rangle$$ \n",
    "\n",
    "$$ \\langle\\psi\\mid\\phi\\rangle \\ = \\ \\langle\\phi\\mid\\psi\\rangle^*$$ "
   ]
  },
  {
   "cell_type": "markdown",
   "metadata": {},
   "source": [
    "* Su norma es real y positiva\n",
    "\n",
    "$$ \\langle\\psi\\mid\\psi\\rangle \\ \\geq 0$$ \n",
    "\n",
    "Para estados normalizados : $\\langle\\psi\\mid\\psi\\rangle \\ = 1$"
   ]
  },
  {
   "cell_type": "markdown",
   "metadata": {},
   "source": [
    "* Desigualdad de Schwarz\n",
    "\n",
    "$$ \\mid\\langle\\psi\\mid\\phi\\rangle\\mid^2 \\leq  \\langle\\psi\\mid\\psi\\rangle\\langle\\phi\\mid\\phi\\rangle$$\n",
    "\n"
   ]
  },
  {
   "cell_type": "markdown",
   "metadata": {},
   "source": [
    "* Desigualdad del Triangulo\n",
    "\n",
    "$$\\sqrt{\\langle\\psi + \\phi \\mid \\psi + \\phi\\rangle}  \\leq \\sqrt{\\langle\\psi\\mid\\psi\\rangle} + \\sqrt{\\langle\\phi\\mid\\phi\\rangle}  $$\n"
   ]
  },
  {
   "cell_type": "markdown",
   "metadata": {},
   "source": [
    "* Estados ortogonales y ortonormales\n",
    "\n",
    "Ortogonales: $$ \\langle\\psi\\mid\\phi\\rangle = 0$$\n",
    "\n",
    "Ortonormales: \n",
    "\n",
    "$$ \\langle\\psi\\mid\\phi\\rangle = 0, \\hspace{1 cm }\\langle\\psi\\mid\\psi\\rangle = 1, \\hspace{1 cm }\\langle\\phi\\mid\\phi\\rangle = 1 $$\n",
    "\n",
    "              "
   ]
  },
  {
   "cell_type": "markdown",
   "metadata": {},
   "source": [
    "<h2 style=\"color:#00A6D6;\">Bits Cuanticos</h2>\n",
    "\n",
    "En cuantica, los analogos a los bits clasicos 0 y 1 esta representados por los siguientes qubits:\n",
    "\n",
    "$$\\left| 0 \\right\\rangle = \\begin{pmatrix}1 \\\\ 0\\end{pmatrix}, \\quad \\text{y} \\quad \\left| 1 \\right\\rangle = \\begin{pmatrix}0 \\\\ 1\\end{pmatrix}$$\n",
    "\n",
    "Podemos definirlos en Julia como:"
   ]
  },
  {
   "cell_type": "code",
   "execution_count": 3,
   "metadata": {},
   "outputs": [],
   "source": [
    "# El sigueinte vector representa el qubit |0>\n",
    "# Quita el comentario de la siguiente linea para ejecutar el codigo\n",
    "# v0 = [1; 0]"
   ]
  },
  {
   "cell_type": "code",
   "execution_count": 4,
   "metadata": {},
   "outputs": [],
   "source": [
    "# Y este otro al |1>\n",
    "# Quita el comentario de la siguiente linea para ejecutar el codigo\n",
    "# v1 = [0; 1]"
   ]
  },
  {
   "cell_type": "markdown",
   "metadata": {},
   "source": [
    "De la misma manera, podemos definir cualquiero estado de un qubit general (en superposicion de los elementales) como: \n",
    "\n",
    "$$\\left| \\psi \\right\\rangle = \\alpha \\left| 0 \\right\\rangle + \\beta \\left| 1 \\right\\rangle = \\begin{pmatrix} \\alpha \\\\ \\beta \\end{pmatrix} \\:.$$\n",
    "\n",
    "Donde $\\alpha$ y $\\beta$ representan las amplitudes de los qubits 0 y 1. Construyamos este qubit 'general' en Julia asignando algunos valores para las amplitudes $\\alpha$ y $\\beta$ en Julia:"
   ]
  },
  {
   "cell_type": "code",
   "execution_count": 5,
   "metadata": {},
   "outputs": [],
   "source": [
    "# Amplitudes\n",
    "# Quita los comentarios de las siguiente lineas para ejecutar el codigo\n",
    "# alfa = 1/sqrt(2);\n",
    "# beta = 1/sqrt(2); \n",
    "\n",
    "# The qubit psi corresponding to such amplitudes\n",
    "# Quita el comentario de la siguiente linea para ejecutar el codigo\n",
    "# psi = alfa * v0 + beta * v1"
   ]
  },
  {
   "cell_type": "code",
   "execution_count": 6,
   "metadata": {},
   "outputs": [],
   "source": [
    "# Podemos obtener el bra en Julia de la siguiente manera\n",
    "# Bra de psi\n",
    "# Quita el comentario de la siguiente linea para ejecutar el codigo\n",
    "# psi'"
   ]
  },
  {
   "cell_type": "markdown",
   "metadata": {},
   "source": [
    "---\n",
    "\n",
    "<a id='normalizacion'></a>\n",
    "<h2 style=\"color:#00A6D6;\">Normalization</h2>\n",
    "\n",
    "Para que un quibit $\\left| \\psi \\right\\rangle$ sea un qubit valido, necesitamos que $\\left| \\psi \\right\\rangle$ este normalizado. Para que el producto interno de $\\left| \\psi \\right\\rangle$ consigo mismo&mdash;en notacion bra-ket es $ \\langle \\psi \\:|\\: \\psi \\rangle$&mdash;se requiere que\n",
    "\n",
    "$$ \\langle \\psi \\:|\\: \\psi \\rangle = \\lvert\\alpha\\rvert^2 + \\lvert\\beta\\rvert^2 = 1$$\n",
    "\n",
    "Para hacer esto mas explicito recuerda que un bra $\\left\\langle \\psi \\right|$ es el complejo conjugado de un ket $\\left| \\psi \\right\\rangle$:\n",
    "\n",
    "$$\\left\\langle \\psi \\right|= \\begin{pmatrix} \\alpha \\\\ \\beta \\end{pmatrix}^{*T} = \\begin{pmatrix} \\alpha^* , \\beta^* \\end{pmatrix} \\:.$$ \n",
    "\n",
    "Si expandimos los terminos en el producto interno obtenemos:\n",
    "\n",
    "$$\\langle \\psi \\:|\\: \\psi \\rangle = \\begin{pmatrix} \\alpha^*\\:, \\beta^* \\end{pmatrix} \\cdot \\begin{pmatrix} \\alpha \\\\ \\beta \\end{pmatrix} = \\alpha \\cdot \\alpha^* + \\beta \\cdot \\beta^* = \\lvert\\alpha\\rvert^2 + \\lvert\\beta\\rvert^2 = 1$$\n",
    "\n",
    "Let's check whether the qubit psi we have defined above is normalized!"
   ]
  },
  {
   "cell_type": "code",
   "execution_count": 7,
   "metadata": {},
   "outputs": [],
   "source": [
    "# Esta normalizado? \n",
    "# Quita el comentario de la siguiente linea para ejecutar el codigo\n",
    "# psi' * psi"
   ]
  },
  {
   "cell_type": "markdown",
   "metadata": {},
   "source": [
    "Excelente! Ya sabes como definir kets (vectores) y sus respectivos bras (transpuesto conjugados). "
   ]
  },
  {
   "cell_type": "markdown",
   "metadata": {},
   "source": [
    "Debes ser muy cuidadoso en como usas estos objetos matematicos. Recuerda que un bra es un <b>transpuesto conjugado</b> del ket, i.e., convierte un vector columna en un vector fila y obtiene el complejo conjugado de sus entradas al mismo tiempo. Para ver estod e forma mas precisa definamos un vector complejo usando Julia. \n",
    "En Julia la unidad imaginaria ($i = \\sqrt{(-1)}$) se representa como 'im'."
   ]
  },
  {
   "cell_type": "code",
   "execution_count": 8,
   "metadata": {},
   "outputs": [],
   "source": [
    "# Definamos un vector complejo\n",
    "# Quita los comentario de las siguientes lineas para ejecutar el codigo\n",
    "\n",
    "# alfa = 1/sqrt(2);\n",
    "# beta_c = im * 1/sqrt(2);\n",
    "\n",
    "# Mostremos el vector\n",
    "# psi_c = alfa * v0 + beta * v1"
   ]
  },
  {
   "cell_type": "code",
   "execution_count": 9,
   "metadata": {},
   "outputs": [],
   "source": [
    "# Calculemos su bra\n",
    "# Quita el comentario de la siguiente linea para ejecutar el codigo\n",
    "# psi_c'"
   ]
  },
  {
   "cell_type": "markdown",
   "metadata": {},
   "source": [
    "Ves la diferencia? Esta normalizado? Compruebalo en la siguiente celda:"
   ]
  },
  {
   "cell_type": "code",
   "execution_count": 10,
   "metadata": {},
   "outputs": [],
   "source": [
    "# Comprueba si psi_c esta normalizado\n"
   ]
  },
  {
   "cell_type": "markdown",
   "metadata": {},
   "source": [
    "Que pasa si cambiamos las amplitudes de forma arbitraria?\n",
    "\n",
    "Comprubealo tu mismo! Definamos un qubit 'Fi' $$|\\Phi\\rangle = \\alpha_2 |0\\rangle + \\beta_2 |1\\rangle$$ con $\\alpha_2 = 1/3$ y $\\beta_2 = 2/3$. Es un qubit normalizado? "
   ]
  },
  {
   "cell_type": "code",
   "execution_count": 11,
   "metadata": {},
   "outputs": [],
   "source": [
    "# Define aqui las amplitudes\n",
    "# alfa_2 = ...;\n",
    "# beta_2 = ...;\n",
    "\n",
    "# Construye aqui el vecto Fi\n",
    "# fi = ...\n",
    "\n",
    "# Su norma es <Fi|Fi>\n",
    "# fi'*fi"
   ]
  },
  {
   "cell_type": "markdown",
   "metadata": {},
   "source": [
    "Antes de continuar con los conceptos cuanticos, repasemos un poco la programacion en Julia. Trata de resolver los siguientes ejercicios por tu cuenta. Si tienes dudas, pregunta a un compañero o los instructores. "
   ]
  },
  {
   "cell_type": "markdown",
   "metadata": {},
   "source": [
    "***"
   ]
  },
  {
   "cell_type": "markdown",
   "metadata": {},
   "source": [
    "## Ejercicio  1"
   ]
  },
  {
   "cell_type": "markdown",
   "metadata": {},
   "source": [
    "Dos vectores $\\mid vector_1\\rangle$ y $\\mid vector_2\\rangle$ estan dados por:\n",
    "\n",
    "$$ \\lvert vector_1\\rangle = \\begin{pmatrix} -5i \\\\ 4 + 8i \\\\ 3\\end{pmatrix} \\quad \\lvert vector_2\\rangle = \\begin{pmatrix} 7 \\\\ 2i \\\\ 9 - 11i \\end{pmatrix} $$"
   ]
  },
  {
   "cell_type": "code",
   "execution_count": 12,
   "metadata": {},
   "outputs": [
    {
     "ename": "LoadError",
     "evalue": "\u001b[91msyntax: invalid identifier name \"...\"\u001b[39m",
     "output_type": "error",
     "traceback": [
      "\u001b[91msyntax: invalid identifier name \"...\"\u001b[39m",
      ""
     ]
    }
   ],
   "source": [
    "# Define aqui los vectores\n",
    "vector_1 = ...;\n",
    "vector_2 = ...;"
   ]
  },
  {
   "cell_type": "markdown",
   "metadata": {},
   "source": [
    "a) Usa Julia para obtener sus respectivos bras"
   ]
  },
  {
   "cell_type": "code",
   "execution_count": 13,
   "metadata": {},
   "outputs": [],
   "source": [
    "# Tu codigo empieza aqui\n",
    "# Muestra el output de cada uno de ellos"
   ]
  },
  {
   "cell_type": "code",
   "execution_count": null,
   "metadata": {},
   "outputs": [],
   "source": []
  },
  {
   "cell_type": "markdown",
   "metadata": {},
   "source": [
    "b) Cual es la norma de cada uno de ellos?"
   ]
  },
  {
   "cell_type": "code",
   "execution_count": 14,
   "metadata": {},
   "outputs": [],
   "source": [
    "# Tu codigo empieza aqui\n",
    "# Muestra el output de cada uno de ellos"
   ]
  },
  {
   "cell_type": "code",
   "execution_count": null,
   "metadata": {},
   "outputs": [],
   "source": []
  },
  {
   "cell_type": "markdown",
   "metadata": {},
   "source": [
    "c) Calcula: $\\langle vector_1 \\mid vector_2 \\rangle $ y $ \\langle vector_2 \\mid vector_1 \\rangle $\n",
    "\n",
    "Dan lo mismo?"
   ]
  },
  {
   "cell_type": "code",
   "execution_count": 15,
   "metadata": {},
   "outputs": [],
   "source": [
    "# Tu codigo empieza aqui\n",
    "# Muestra el output de cada uno de ellos\n"
   ]
  },
  {
   "cell_type": "code",
   "execution_count": null,
   "metadata": {},
   "outputs": [],
   "source": []
  },
  {
   "cell_type": "markdown",
   "metadata": {},
   "source": [
    "## Ejercicio 2.-"
   ]
  },
  {
   "cell_type": "markdown",
   "metadata": {},
   "source": [
    "Escribe una funcion llamada 'normalizacion' que analice si un vector esta normalizado. Si el vector esta normalizado que se lo haga saber al usuario; en caso contrario, que la funcion devuelva el factor de normalizacion para normalizar el vector. Usa esta funcion para analizar los vectores del ejercicio 1."
   ]
  },
  {
   "cell_type": "code",
   "execution_count": 16,
   "metadata": {},
   "outputs": [
    {
     "ename": "LoadError",
     "evalue": "\u001b[91msyntax: missing condition in \"if\" at In[16]:4\u001b[39m",
     "output_type": "error",
     "traceback": [
      "\u001b[91msyntax: missing condition in \"if\" at In[16]:4\u001b[39m",
      ""
     ]
    }
   ],
   "source": [
    "# Tu codigo empieza aqui.\n",
    "\n",
    "function normalizacion(vector)\n",
    "    if\n",
    "        ...\n",
    "    \n",
    "    else\n",
    "        ...\n",
    "        \n",
    "    end    \n",
    "end"
   ]
  },
  {
   "cell_type": "code",
   "execution_count": null,
   "metadata": {},
   "outputs": [],
   "source": []
  },
  {
   "cell_type": "markdown",
   "metadata": {},
   "source": [
    "## Ejercicio 3.-"
   ]
  },
  {
   "cell_type": "markdown",
   "metadata": {},
   "source": [
    "a) Escribe una funcion llamada Schwarz que tome como input dos vectores y que devuelva dos valores: el lado izquierdo y el lado derecho de la desigualdad de Schwarz respectivamente. Usa esta funcion para verificar si los vectores del ejercicio 1 satisfacen dicha desigualdad. "
   ]
  },
  {
   "cell_type": "code",
   "execution_count": 17,
   "metadata": {},
   "outputs": [
    {
     "ename": "LoadError",
     "evalue": "\u001b[91msyntax: invalid identifier name \"...\"\u001b[39m",
     "output_type": "error",
     "traceback": [
      "\u001b[91msyntax: invalid identifier name \"...\"\u001b[39m",
      ""
     ]
    }
   ],
   "source": [
    "# Tu codigo empieza aqui\n",
    "\n",
    "function Schwarz(vector1, vector2)\n",
    "    ..., ...\n",
    "end"
   ]
  },
  {
   "cell_type": "markdown",
   "metadata": {},
   "source": [
    "b) Escribe una funcion llamada Triangulo que tome como input dos vectores y que devuelva dos valores: el lado izquierdo y el lado derecho de la desigualdad del Triangulo respectivamente. Usa esta funcion para verificar si los vectores del ejercicio 1 satisfacen dicha desigualdad. "
   ]
  },
  {
   "cell_type": "code",
   "execution_count": 18,
   "metadata": {},
   "outputs": [
    {
     "ename": "LoadError",
     "evalue": "\u001b[91msyntax: invalid identifier name \"...\"\u001b[39m",
     "output_type": "error",
     "traceback": [
      "\u001b[91msyntax: invalid identifier name \"...\"\u001b[39m",
      ""
     ]
    }
   ],
   "source": [
    "# Tu codigo empieza aqui\n",
    "\n",
    "function Triangulo(vector1, vector2)\n",
    "    ..., ...\n",
    "end"
   ]
  },
  {
   "cell_type": "markdown",
   "metadata": {},
   "source": [
    "***"
   ]
  },
  {
   "cell_type": "markdown",
   "metadata": {},
   "source": [
    "---\n",
    "<a id=\"single_qubit\"></a>\n",
    "<h1 style=\"color:#0027d6;\">Operadores y Matrices</h1>"
   ]
  },
  {
   "cell_type": "markdown",
   "metadata": {},
   "source": [
    "Los operadores cuanticos son como cajas en las que metes un estado cuantico, los procesan y te devuelven otro estado. Por ejemplo, supongamos que defino el siguiente operador llamado 'suma mas dos': $\\hat{+}_2$, este operador toma un ket y suma dos a todas sus entradas. Como podemos definir este objeto en Julia? "
   ]
  },
  {
   "cell_type": "code",
   "execution_count": 19,
   "metadata": {},
   "outputs": [],
   "source": [
    "# Podemos definir a los operadores como simples funciones! \n",
    "# Quita los comentarios de las siguientes lineas para ejecutar el codigo\n",
    "\n",
    "#function suma_mas_dos(vector)\n",
    "#    vector + 2\n",
    "#end"
   ]
  },
  {
   "cell_type": "code",
   "execution_count": 20,
   "metadata": {},
   "outputs": [],
   "source": [
    "# Probemos nuestro operador en un vector\n",
    "# Quita los comentarios de las siguientes lineas para ejecutar el codigo\n",
    "# v_prueba = [1; 2; 3];\n",
    "\n",
    "# suma_mas_dos(v_prueba)"
   ]
  },
  {
   "cell_type": "markdown",
   "metadata": {},
   "source": [
    "Si deseas usar mas de un operador consecutivamente, el resultado es quivalente a usar cada operador de forma consecutiva, es decir:\n",
    "\n",
    "$$ \\hat{A}\\hat{B}\\mid\\psi\\rangle = \\hat{A}(\\hat{B}\\mid\\psi\\rangle) = \\hat{A}\\mid\\psi'\\rangle$$\n",
    "\n",
    "donde $\\mid\\psi'\\rangle$ representa el resultado de aplicar el operador $\\hat{B}$ en "
   ]
  },
  {
   "cell_type": "markdown",
   "metadata": {},
   "source": [
    "Definamos por ejemplo el operador 'multiplicar por tres': $\\hat{3}$ y veamos que pasa cuando usamos estos operadores de forma consecutiva. "
   ]
  },
  {
   "cell_type": "code",
   "execution_count": 21,
   "metadata": {},
   "outputs": [],
   "source": [
    "# Aqui defino mi operador multiplicar por 3\n",
    "# Quita los comentarios de las siguientes lineas para ejecutar el codigo\n",
    "\n",
    "#function multiplicar_por_tres(vector)\n",
    "#    vector*3\n",
    "#end"
   ]
  },
  {
   "cell_type": "markdown",
   "metadata": {},
   "source": [
    "Evaluemos ahora: $\\hat{3}\\hat{+}_2$ y $\\hat{+}_2\\hat{3}$. Dan lo mismo?"
   ]
  },
  {
   "cell_type": "code",
   "execution_count": 22,
   "metadata": {},
   "outputs": [],
   "source": [
    "# Suma primero, multiplicacion despues\n",
    "# Quita el comentario de la siguiente lineas para ejecutar el codigo\n",
    "\n",
    "# multiplicar_por_tres(suma_mas_dos(v_prueba))"
   ]
  },
  {
   "cell_type": "code",
   "execution_count": 23,
   "metadata": {},
   "outputs": [],
   "source": [
    "# Multiplicacion primero, suma despues\n",
    "# Quita los comentarios de las siguientes lineas para ejecutar el codigo\n",
    "\n",
    "# suma_mas_dos(multiplicar_por_tres(v_prueba))"
   ]
  },
  {
   "cell_type": "markdown",
   "metadata": {},
   "source": [
    "Como ves, los dos casos no dan el mismo resultado. Este ejemplo nos ayuda a introducir otro concepto muy importante en la cuantica: el conmutador. Cuando el orden que aplicas los operadores importa, decimos que los operadores no conmutan. En caso contrario conmutan. Como ves, la suma y la multiplicacion en general no conmutan. Se te ocurren/conoces otras operaciones matematicas que no conmuten?"
   ]
  },
  {
   "cell_type": "markdown",
   "metadata": {},
   "source": [
    "El conmutador de dos operadores $\\hat{A}$, $\\hat{B}$ se define como: \n",
    "\n",
    "$$ [\\hat{A}, \\hat{B}] = \\hat{A}\\hat{B} - \\hat{B}\\hat{A}$$\n",
    "\n",
    "- Si $[\\hat{A}, \\hat{B}] = 0$, decimos que los operadores conmutan. \n",
    "\n",
    "\n",
    "- Si $[\\hat{A}, \\hat{B}] \\neq 0$, decimos que los operadores no conmutan. \n",
    "\n",
    "Del mismo modo, podemos definir el anticonmutador como: \n",
    "\n",
    "$$\\{\\hat{A}, \\hat{B}\\} = \\hat{A}\\hat{B} + \\hat{B}\\hat{A}$$"
   ]
  },
  {
   "cell_type": "markdown",
   "metadata": {},
   "source": [
    "Veamos como podemos definir el conmutador en Julia. "
   ]
  },
  {
   "cell_type": "code",
   "execution_count": 24,
   "metadata": {},
   "outputs": [],
   "source": [
    "# Conmutador\n",
    "# Quita los comentarios de las siguientes lineas para ejecutar el codigo\n",
    "\n",
    "\n",
    "# function conmutador(f1::Function, f2::Function, vector)\n",
    "#    return f2(f1(vector)) - f1(f2(vector))\n",
    "# end"
   ]
  },
  {
   "cell_type": "code",
   "execution_count": 25,
   "metadata": {},
   "outputs": [],
   "source": [
    "# conmutador(suma_mas_dos::Function, multiplicar_por_tres::Function, v_prueba)"
   ]
  },
  {
   "cell_type": "markdown",
   "metadata": {},
   "source": [
    "Facil no es asi?"
   ]
  },
  {
   "cell_type": "markdown",
   "metadata": {},
   "source": [
    "## Ejercicio 4.- "
   ]
  },
  {
   "cell_type": "markdown",
   "metadata": {},
   "source": [
    "Usa Julia para programar los siguientes conmutadores:\n",
    "\n",
    "a) $[\\hat{A}, \\hat{B}\\hat{C}] = [\\hat{A}, \\hat{B}]\\hat{C} + \\hat{B}[\\hat{A}, \\hat{A}\\hat{C}]$\n",
    "\n",
    "\n",
    "b) $[\\hat{A}\\hat{B}, \\hat{C}] = \\hat{A}[\\hat{B}, \\hat{C}] + [\\hat{A}, \\hat{A}\\hat{C}]\\hat{B}$\n",
    "\n",
    "\n",
    "La idea que el usuario ingrese tres operadores distintos y un vector para que le devuelva otro vector. Usa opradores (funciones) sencillos para comprobar tu resultado. \n",
    "\n",
    "Nota: puedes recilar parte del codigo que ya se te proporciono. "
   ]
  },
  {
   "cell_type": "code",
   "execution_count": 26,
   "metadata": {},
   "outputs": [
    {
     "ename": "LoadError",
     "evalue": "\u001b[91msyntax: invalid identifier name \"...\"\u001b[39m",
     "output_type": "error",
     "traceback": [
      "\u001b[91msyntax: invalid identifier name \"...\"\u001b[39m",
      ""
     ]
    }
   ],
   "source": [
    "# Primer conmutador triple\n",
    "function triple_con1(..., ..., ..., ...)\n",
    "\n",
    "end"
   ]
  },
  {
   "cell_type": "code",
   "execution_count": 27,
   "metadata": {},
   "outputs": [
    {
     "ename": "LoadError",
     "evalue": "\u001b[91msyntax: invalid identifier name \"...\"\u001b[39m",
     "output_type": "error",
     "traceback": [
      "\u001b[91msyntax: invalid identifier name \"...\"\u001b[39m",
      ""
     ]
    }
   ],
   "source": [
    "# Segundo conmutador triple\n",
    "function triple_con2(..., ..., ..., ...)\n",
    "\n",
    "end"
   ]
  },
  {
   "cell_type": "markdown",
   "metadata": {},
   "source": [
    "Otra cantidad fundamental en la cuantica es el 'valor esperado' de un operador. Se define como: \n",
    "\n",
    "$$ \\langle A\\rangle = \\frac{\\langle\\psi\\mid \\hat{A}\\mid\\psi\\rangle}{\\langle\\psi\\mid\\psi\\rangle} $$\n",
    "\n",
    "\n",
    "Esta cantidad lo que nos indica cual es el valor mas probable que podriamos obtener al realizar una medicion. Por ejemplo, si el operador en cuestion fuera el operador de posicion, $\\hat{x}$, el valor esperado representa es la posicion mas probable donde encontrarias una particula al medir su posicion. "
   ]
  },
  {
   "cell_type": "markdown",
   "metadata": {},
   "source": [
    "## Ejercicio 5 .-"
   ]
  },
  {
   "cell_type": "markdown",
   "metadata": {},
   "source": [
    "Usa Julia para programar una funcion 'vl_esp' que tome un operador, un vector y que devuelva el valor esperado. "
   ]
  },
  {
   "cell_type": "code",
   "execution_count": 28,
   "metadata": {},
   "outputs": [
    {
     "ename": "LoadError",
     "evalue": "\u001b[91msyntax: invalid identifier name \"...\"\u001b[39m",
     "output_type": "error",
     "traceback": [
      "\u001b[91msyntax: invalid identifier name \"...\"\u001b[39m",
      ""
     ]
    }
   ],
   "source": [
    "# Empieza tu codigo aqui\n",
    "\n",
    "function vl_esp(..., ...)\n",
    "\n",
    "end\n"
   ]
  },
  {
   "cell_type": "markdown",
   "metadata": {},
   "source": [
    "Para finalizar la discusion de las matematicas basicas para hacer cuantica, hagamso un repaso rapido de matrices. El algebra matricial es fundamental para discutir estos temas ya que como veras mas adelante, todos los operadores cuanticos pueden representarse como matrices. De hecho, las puertas logicas cuanticas que discutiremod despues, tambien pueden representarse como matrices.  "
   ]
  },
  {
   "cell_type": "markdown",
   "metadata": {},
   "source": [
    "## Ejercicio 6 .- "
   ]
  },
  {
   "cell_type": "markdown",
   "metadata": {},
   "source": [
    "El siguiente ejercicio tienes que resolverlo a mano y usando Julia!\n",
    "\n",
    "Considera la siguiente matriz <b>M</b> (que representa a un operador cuantico $\\hat{M}$), un ket $\\mid\\psi\\rangle$ y un bra $\\langle\\phi\\mid$: \n",
    "\n",
    "\n",
    "$$ M = \\begin{pmatrix} 5 & 3 + 2i & 3i \\\\ -i & 3i & 8 \\\\ 1 - i & 1 & 4\\end{pmatrix}, \\quad \\lvert \\psi\\rangle = \\begin{pmatrix} -1 + i \\\\ 3 \\\\ 2 + 3i \\end{pmatrix}, \\quad \\langle\\phi\\lvert  =  (6 \\quad -i \\quad 5)$$"
   ]
  },
  {
   "cell_type": "markdown",
   "metadata": {},
   "source": [
    "a) Calcula, $\\hat{M}\\mid\\psi\\rangle$, $\\langle\\phi\\mid\\hat{M}$, $\\langle\\phi\\mid\\hat{M}\\mid\\psi\\rangle$ y $\\mid\\psi\\rangle\\langle\\phi\\mid$"
   ]
  },
  {
   "cell_type": "markdown",
   "metadata": {},
   "source": [
    "b) Calcula el complejo conjuado, el transpuesto, y el conjuado Hermitiano de $\\hat{M}$, $\\mid\\psi\\rangle$ y $\\langle\\phi\\mid$. "
   ]
  },
  {
   "cell_type": "markdown",
   "metadata": {},
   "source": [
    "c) Calcula $\\langle\\phi\\mid\\psi\\rangle$ y $\\langle\\psi\\mid\\phi\\rangle$. Son iguales? Cual es su relacion?"
   ]
  },
  {
   "cell_type": "markdown",
   "metadata": {},
   "source": [
    "Este ejercicio deberia ayudarte a entender la diferencia entre el complejo conjugado, Hermitiano conjugado y transpuesto de vectores y matrices. Discute las diferencias con tus compañeros. "
   ]
  },
  {
   "cell_type": "code",
   "execution_count": null,
   "metadata": {},
   "outputs": [],
   "source": []
  }
 ],
 "metadata": {
  "kernelspec": {
   "display_name": "Julia 0.6.2",
   "language": "julia",
   "name": "julia-0.6"
  },
  "language_info": {
   "file_extension": ".jl",
   "mimetype": "application/julia",
   "name": "julia",
   "version": "0.6.2"
  }
 },
 "nbformat": 4,
 "nbformat_minor": 2
}
