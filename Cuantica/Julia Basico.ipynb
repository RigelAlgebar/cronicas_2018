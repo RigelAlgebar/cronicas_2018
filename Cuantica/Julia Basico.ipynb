{
 "cells": [
  {
   "cell_type": "markdown",
   "metadata": {},
   "source": [
    "\n",
    "<center>\n",
    "<font size='7' style=\"color:#0D47A1\">  <b>Julia Basico</b> </font>\n",
    "</center>\n",
    "\n",
    "<hr style= \"height:3px;\">\n",
    "<br>"
   ]
  },
  {
   "cell_type": "markdown",
   "metadata": {},
   "source": [
    "    Introduccion.\n",
    "    \n",
    "En esta seccion vamos a discutir un concepto clave en cualquier lenguaje de programacion: tipos de datos. Todo en esta vida viene en distintos tamaños y sabores, la diversidad es bonita y nos enriquece, Julia lo sabe, y por eso nos ha dotado de una rica y esponjocita variedad de tipos de datos. Cada uno de estos tipos de datos... \n",
    "\n",
    "\n",
    "<br>\n",
    "<br>\n",
    "<br>\n"
   ]
  },
  {
   "cell_type": "markdown",
   "metadata": {},
   "source": [
    "\n",
    "<hr style= \"height:1px;\">\n",
    "<font size='6' style=\"color:#000000\">  <b>Contenido</b> </font>\n",
    "<a name=\"indice\"></a>\n",
    "\n",
    "\n",
    "1. [Datos Numericos](#datos_numericos)\n",
    "<br>\n",
    "\n",
    "2. [Variables](#variables)\n",
    "<br>\n",
    "\n",
    "3. [Cadenas de Caracteres](#strings)\n",
    "\n",
    "<hr style= \"height:1px;\">\n",
    "\n",
    "<br>\n",
    "<br>\n",
    "<br>"
   ]
  },
  {
   "cell_type": "markdown",
   "metadata": {},
   "source": [
    "<font size='6' style=\"color:#00A6D6\">  <b>Datos Numericos </b> </font>\n",
    "<a name=\"datos_numericos\"></a>\n",
    "\n",
    "[[ Volver al inicio ]](#indice)"
   ]
  },
  {
   "cell_type": "markdown",
   "metadata": {},
   "source": [
    "<br>\n",
    "En las siguientes secciones doscutiremos los conceptos basicos de los tipo de datos numericos en Julia. Cabe aclarar, que hay cuestioes mas tecnicas y sofisticadas que no se discutiran por el momento. Tendremos una seccion titulada \"Datos Numericos Avanzado\", donde discutiremos de manera mucha mas detallada y tecnica este tipo de datos. Nos centramos por ahora en las cuestiones basicas para que aquellos que nunca han programado se familiricen con el tema. "
   ]
  },
  {
   "cell_type": "markdown",
   "metadata": {},
   "source": [
    "<br>\n",
    "<br>\n",
    "<font size='5' style=\"color:#4CAF50\">  <b>Numeros Enteros</b></font>"
   ]
  },
  {
   "cell_type": "markdown",
   "metadata": {},
   "source": [
    "<br>\n",
    "Podemos invocar la ya mencionada funcion `typeof()` para saber que tipo de entero estamos manejando. El tipo de entero que uses por default dependera de tu equipo y puede ser `Int32` o `Int64` si tu sistema operativo es de 32 o 64 bits respectivamente. Por ejemplo:"
   ]
  },
  {
   "cell_type": "code",
   "execution_count": 1,
   "metadata": {},
   "outputs": [
    {
     "data": {
      "text/plain": [
       "Int64"
      ]
     },
     "execution_count": 1,
     "metadata": {},
     "output_type": "execute_result"
    }
   ],
   "source": [
    "\n",
    "# Conociendo tus enteros\n",
    "\n",
    "typeof(123)\n"
   ]
  },
  {
   "cell_type": "markdown",
   "metadata": {},
   "source": [
    "<br>\n",
    "Dlecarar enteros es tan facil como escribir tu entero favorito en la celda de codigo y ejecutarla!"
   ]
  },
  {
   "cell_type": "code",
   "execution_count": 2,
   "metadata": {},
   "outputs": [
    {
     "data": {
      "text/plain": [
       "42"
      ]
     },
     "execution_count": 2,
     "metadata": {},
     "output_type": "execute_result"
    }
   ],
   "source": [
    "42\n"
   ]
  },
  {
   "cell_type": "code",
   "execution_count": 3,
   "metadata": {},
   "outputs": [
    {
     "data": {
      "text/plain": [
       "-33"
      ]
     },
     "execution_count": 3,
     "metadata": {},
     "output_type": "execute_result"
    }
   ],
   "source": [
    "-33\n"
   ]
  },
  {
   "cell_type": "markdown",
   "metadata": {},
   "source": [
    "<br>\n",
    "Una de los mejores maneras de empezar a familiarizarse con un nuevo lenguaje de programacion es usarlo como calculadora. Hagamos exactamente eso y jugemos un poco con operaciones sencillas. "
   ]
  },
  {
   "cell_type": "markdown",
   "metadata": {},
   "source": [
    "<br>\n",
    "\n",
    "### Aritmetica Basica"
   ]
  },
  {
   "cell_type": "code",
   "execution_count": 4,
   "metadata": {},
   "outputs": [
    {
     "data": {
      "text/plain": [
       "8"
      ]
     },
     "execution_count": 4,
     "metadata": {},
     "output_type": "execute_result"
    }
   ],
   "source": [
    "\n",
    "# Suma\n",
    "\n",
    "3+5\n"
   ]
  },
  {
   "cell_type": "code",
   "execution_count": 5,
   "metadata": {},
   "outputs": [
    {
     "data": {
      "text/plain": [
       "11"
      ]
     },
     "execution_count": 5,
     "metadata": {},
     "output_type": "execute_result"
    }
   ],
   "source": [
    "\n",
    "# Resta\n",
    "\n",
    "14-3\n"
   ]
  },
  {
   "cell_type": "code",
   "execution_count": 6,
   "metadata": {},
   "outputs": [
    {
     "data": {
      "text/plain": [
       "-8"
      ]
     },
     "execution_count": 6,
     "metadata": {},
     "output_type": "execute_result"
    }
   ],
   "source": [
    "\n",
    "# Otra Resta\n",
    "\n",
    "6-14\n"
   ]
  },
  {
   "cell_type": "code",
   "execution_count": 7,
   "metadata": {},
   "outputs": [
    {
     "data": {
      "text/plain": [
       "35"
      ]
     },
     "execution_count": 7,
     "metadata": {},
     "output_type": "execute_result"
    }
   ],
   "source": [
    "\n",
    "# Multiplicacion\n",
    "\n",
    "5*7\n"
   ]
  },
  {
   "cell_type": "code",
   "execution_count": 8,
   "metadata": {},
   "outputs": [
    {
     "data": {
      "text/plain": [
       "4.0"
      ]
     },
     "execution_count": 8,
     "metadata": {},
     "output_type": "execute_result"
    }
   ],
   "source": [
    "\n",
    "# Division\n",
    "\n",
    "12/3\n"
   ]
  },
  {
   "cell_type": "code",
   "execution_count": 9,
   "metadata": {},
   "outputs": [
    {
     "data": {
      "text/plain": [
       "3.25"
      ]
     },
     "execution_count": 9,
     "metadata": {},
     "output_type": "execute_result"
    }
   ],
   "source": [
    "\n",
    "# Otra division porque no\n",
    "\n",
    "13/4\n"
   ]
  },
  {
   "cell_type": "markdown",
   "metadata": {},
   "source": [
    "<br>\n",
    "Como puedes ver, Julia entiende que resultado esperamos como humanos al dividir enteros. Si tienes experiencia programando en otros lenguajes, notaras inmediatamente que Julia nos ahorrado la molestia de especificar el tipo de division que queremos. De lo que hablamos aqui es que en nuestro ejemplo le hemos dado a Julia dos enteros y Julia tan buena y sabia que es, nos ha devuelto un flotante: 3.25!"
   ]
  },
  {
   "cell_type": "code",
   "execution_count": 10,
   "metadata": {},
   "outputs": [
    {
     "data": {
      "text/plain": [
       "0.3076923076923077"
      ]
     },
     "execution_count": 10,
     "metadata": {},
     "output_type": "execute_result"
    }
   ],
   "source": [
    "\n",
    "# Julia tambien tiene una operacion llamada division inversa, porque, por que no? :p \n",
    "\n",
    "13\\4\n"
   ]
  },
  {
   "cell_type": "markdown",
   "metadata": {},
   "source": [
    "Esta operacion equivale a: 4/13"
   ]
  },
  {
   "cell_type": "code",
   "execution_count": 11,
   "metadata": {},
   "outputs": [
    {
     "data": {
      "text/plain": [
       "9"
      ]
     },
     "execution_count": 11,
     "metadata": {},
     "output_type": "execute_result"
    }
   ],
   "source": [
    "\n",
    "# Potencia \n",
    "\n",
    "3^2\n"
   ]
  },
  {
   "cell_type": "code",
   "execution_count": 12,
   "metadata": {},
   "outputs": [
    {
     "data": {
      "text/plain": [
       "4"
      ]
     },
     "execution_count": 12,
     "metadata": {},
     "output_type": "execute_result"
    }
   ],
   "source": [
    "\n",
    "# Residuo (modulo)\n",
    "\n",
    "25%7\n"
   ]
  },
  {
   "cell_type": "markdown",
   "metadata": {},
   "source": [
    "<br>\n",
    "Lo que esta operacion hace es encontrar el residuo de una division; en nuestro ejemplo, 25 mod 7 = 4, porque 25 divide al 7 a lo mucho 3 veces quedando como residuo 4. "
   ]
  },
  {
   "cell_type": "markdown",
   "metadata": {},
   "source": [
    "Julia sigue la jerarquia aritmetica que aprendiste en la escuela. Veamos algunos ejemplos."
   ]
  },
  {
   "cell_type": "code",
   "execution_count": 13,
   "metadata": {},
   "outputs": [
    {
     "data": {
      "text/plain": [
       "14"
      ]
     },
     "execution_count": 13,
     "metadata": {},
     "output_type": "execute_result"
    }
   ],
   "source": [
    "\n",
    "# Multiplicacion antes que la suma\n",
    "\n",
    "2+3*4\n"
   ]
  },
  {
   "cell_type": "code",
   "execution_count": 14,
   "metadata": {},
   "outputs": [
    {
     "data": {
      "text/plain": [
       "40.5"
      ]
     },
     "execution_count": 14,
     "metadata": {},
     "output_type": "execute_result"
    }
   ],
   "source": [
    "\n",
    "# Potencia antes de division\n",
    "\n",
    "3^4/2\n"
   ]
  },
  {
   "cell_type": "code",
   "execution_count": 15,
   "metadata": {},
   "outputs": [
    {
     "data": {
      "text/plain": [
       "36.5"
      ]
     },
     "execution_count": 15,
     "metadata": {},
     "output_type": "execute_result"
    }
   ],
   "source": [
    "\n",
    "# Desde luego puedes usar parentesis para ordenar tus operaciones\n",
    "\n",
    "(625^(1/2)-5) + ((10*11*(12+3)) / (2^10-24)) * 10\n"
   ]
  },
  {
   "cell_type": "markdown",
   "metadata": {},
   "source": [
    "<br>\n",
    "Antes de terminar el tema basico de enteros, revisemos que tipo de dato devuelve cada operacion. Recuerda que en todos los casos le estamos alimentado a las operaciones enteros del tipo `Int64`."
   ]
  },
  {
   "cell_type": "code",
   "execution_count": 16,
   "metadata": {},
   "outputs": [
    {
     "data": {
      "text/plain": [
       "Int64"
      ]
     },
     "execution_count": 16,
     "metadata": {},
     "output_type": "execute_result"
    }
   ],
   "source": [
    "\n",
    "# Tipo de datos para la suma\n",
    "\n",
    "typeof(2+2)\n"
   ]
  },
  {
   "cell_type": "code",
   "execution_count": 17,
   "metadata": {},
   "outputs": [
    {
     "data": {
      "text/plain": [
       "Int64"
      ]
     },
     "execution_count": 17,
     "metadata": {},
     "output_type": "execute_result"
    }
   ],
   "source": [
    "\n",
    "# Tipo de datos para la resta\n",
    "\n",
    "typeof(3-5)\n"
   ]
  },
  {
   "cell_type": "code",
   "execution_count": 18,
   "metadata": {},
   "outputs": [
    {
     "data": {
      "text/plain": [
       "Int64"
      ]
     },
     "execution_count": 18,
     "metadata": {},
     "output_type": "execute_result"
    }
   ],
   "source": [
    "\n",
    "# Tipo de datos para la multiplicacion\n",
    "\n",
    "typeof((8*9))\n"
   ]
  },
  {
   "cell_type": "code",
   "execution_count": 19,
   "metadata": {},
   "outputs": [
    {
     "data": {
      "text/plain": [
       "Float64"
      ]
     },
     "execution_count": 19,
     "metadata": {},
     "output_type": "execute_result"
    }
   ],
   "source": [
    "\n",
    "# Tipo de datos para la division\n",
    "\n",
    "typeof(15/3)\n"
   ]
  },
  {
   "cell_type": "code",
   "execution_count": 20,
   "metadata": {},
   "outputs": [
    {
     "data": {
      "text/plain": [
       "Float64"
      ]
     },
     "execution_count": 20,
     "metadata": {},
     "output_type": "execute_result"
    }
   ],
   "source": [
    "\n",
    "# Tipo de datos para la division inversa\n",
    "\n",
    "typeof(10\\2)\n"
   ]
  },
  {
   "cell_type": "code",
   "execution_count": 21,
   "metadata": {},
   "outputs": [
    {
     "data": {
      "text/plain": [
       "Int64"
      ]
     },
     "execution_count": 21,
     "metadata": {},
     "output_type": "execute_result"
    }
   ],
   "source": [
    "\n",
    "# Tipo de datos para la potencia\n",
    "\n",
    "typeof(4^2)\n"
   ]
  },
  {
   "cell_type": "code",
   "execution_count": 22,
   "metadata": {},
   "outputs": [
    {
     "ename": "LoadError",
     "evalue": "syntax: extra token \"thunberg\" after end of expression",
     "output_type": "error",
     "traceback": [
      "syntax: extra token \"thunberg\" after end of expression",
      ""
     ]
    }
   ],
   "source": [
    "greta thunberg full speech\n",
    "# Tipo de datos para otra potencia, ves la diferencia?\n",
    "\n",
    "typeof(27^(1/3))\n"
   ]
  },
  {
   "cell_type": "markdown",
   "metadata": {},
   "source": [
    "<br>\n",
    "<br>\n",
    "<font size='5' style=\"color:#4CAF50\">  <b>Numeros Reales y Complejos</b></font>"
   ]
  },
  {
   "cell_type": "markdown",
   "metadata": {},
   "source": [
    "Comenzamos esta seccion hablando de numeros reales, y por numeros reales nos referimos a `float numbers` o numeros tipo `flotante`. De nuevo, esta seccion solo es para introducirlos y que sepas como se comportan, mas adelante habra una seccion avanzada donde profundisaremos mucho mas en ellos y sus propiedades. Por ahora aprendamos como se definen y usan. "
   ]
  },
  {
   "cell_type": "markdown",
   "metadata": {},
   "source": [
    "<br>\n",
    "\n",
    "### Numeros Reales"
   ]
  },
  {
   "cell_type": "code",
   "execution_count": 23,
   "metadata": {},
   "outputs": [
    {
     "data": {
      "text/plain": [
       "7.0"
      ]
     },
     "execution_count": 23,
     "metadata": {},
     "output_type": "execute_result"
    }
   ],
   "source": [
    "\n",
    "# Esta es una forma de declarar un numero real\n",
    "\n",
    "7.\n"
   ]
  },
  {
   "cell_type": "code",
   "execution_count": 24,
   "metadata": {},
   "outputs": [
    {
     "data": {
      "text/plain": [
       "7.0"
      ]
     },
     "execution_count": 24,
     "metadata": {},
     "output_type": "execute_result"
    }
   ],
   "source": [
    "\n",
    "# Esta es otra forma de declarar un numero real\n",
    "\n",
    "7.0\n"
   ]
  },
  {
   "cell_type": "code",
   "execution_count": 25,
   "metadata": {},
   "outputs": [
    {
     "data": {
      "text/plain": [
       "0.25"
      ]
     },
     "execution_count": 25,
     "metadata": {},
     "output_type": "execute_result"
    }
   ],
   "source": [
    "\n",
    "# Como sabes los numeros decimales son numeros reales y esta es una forma posible de declarar uno\n",
    "\n",
    ".25\n"
   ]
  },
  {
   "cell_type": "code",
   "execution_count": 26,
   "metadata": {},
   "outputs": [
    {
     "data": {
      "text/plain": [
       "0.25"
      ]
     },
     "execution_count": 26,
     "metadata": {},
     "output_type": "execute_result"
    }
   ],
   "source": [
    "\n",
    "# Aqui otra forma de hacer lo mismo\n",
    "\n",
    "0.25\n"
   ]
  },
  {
   "cell_type": "code",
   "execution_count": 27,
   "metadata": {},
   "outputs": [
    {
     "data": {
      "text/plain": [
       "100.0"
      ]
     },
     "execution_count": 27,
     "metadata": {},
     "output_type": "execute_result"
    }
   ],
   "source": [
    "\n",
    "# Julia tambien una forma muy sencilla de declarar numeros exponenciales\n",
    "\n",
    "1e2\n"
   ]
  },
  {
   "cell_type": "code",
   "execution_count": 28,
   "metadata": {},
   "outputs": [
    {
     "data": {
      "text/plain": [
       "0.005"
      ]
     },
     "execution_count": 28,
     "metadata": {},
     "output_type": "execute_result"
    }
   ],
   "source": [
    "\n",
    "# Aqui un exponencial negativo\n",
    "\n",
    "5e-3\n"
   ]
  },
  {
   "cell_type": "markdown",
   "metadata": {},
   "source": [
    "<br>\n",
    "\n",
    "Entre los datos numeros con los que Julia cuenta, encontramos convenientemene las fracciones. Desde luego los numeros reales fraccionarios son mucho mas usados y utiles, pero puede que en ciertas ocasiones resulte mas conveniente usar fracciones. Veamos como se definen. "
   ]
  },
  {
   "cell_type": "code",
   "execution_count": 29,
   "metadata": {},
   "outputs": [
    {
     "data": {
      "text/plain": [
       "2//3"
      ]
     },
     "execution_count": 29,
     "metadata": {},
     "output_type": "execute_result"
    }
   ],
   "source": [
    "\n",
    "# Asi es como declaramo una fraccion \n",
    "\n",
    "2//3\n"
   ]
  },
  {
   "cell_type": "markdown",
   "metadata": {},
   "source": [
    "<br>\n",
    "\n",
    "Y por supuesto que puedes realizar toda la aritmetica basica de fracciones y dejar atras, muy atras, esos dias de tu niñes en los que estas operaciones te espantaban. "
   ]
  },
  {
   "cell_type": "code",
   "execution_count": 30,
   "metadata": {},
   "outputs": [
    {
     "data": {
      "text/plain": [
       "7//12"
      ]
     },
     "execution_count": 30,
     "metadata": {},
     "output_type": "execute_result"
    }
   ],
   "source": [
    "\n",
    "# Suma de fracciones\n",
    "\n",
    "1//3 + 1//4\n"
   ]
  },
  {
   "cell_type": "code",
   "execution_count": 31,
   "metadata": {},
   "outputs": [
    {
     "data": {
      "text/plain": [
       "-2//3"
      ]
     },
     "execution_count": 31,
     "metadata": {},
     "output_type": "execute_result"
    }
   ],
   "source": [
    "\n",
    "# Resta de fracciones\n",
    "\n",
    "31//12 - 13//4\n"
   ]
  },
  {
   "cell_type": "code",
   "execution_count": 32,
   "metadata": {},
   "outputs": [
    {
     "data": {
      "text/plain": [
       "6//35"
      ]
     },
     "execution_count": 32,
     "metadata": {},
     "output_type": "execute_result"
    }
   ],
   "source": [
    "\n",
    "# Una sencilla de multiplicacion de fracciones\n",
    "\n",
    "2//5 * 3//7\n"
   ]
  },
  {
   "cell_type": "code",
   "execution_count": 33,
   "metadata": {},
   "outputs": [
    {
     "data": {
      "text/plain": [
       "7//32"
      ]
     },
     "execution_count": 33,
     "metadata": {},
     "output_type": "execute_result"
    }
   ],
   "source": [
    "\n",
    "# Recuerdas la 'regla del sandichw'?\n",
    "\n",
    "(1//4) / (8//7)\n"
   ]
  },
  {
   "cell_type": "code",
   "execution_count": 34,
   "metadata": {},
   "outputs": [
    {
     "data": {
      "text/plain": [
       "9//64"
      ]
     },
     "execution_count": 34,
     "metadata": {},
     "output_type": "execute_result"
    }
   ],
   "source": [
    "\n",
    "# Fracciones y potencias nunca fueron tan facil :) \n",
    "\n",
    "(3//8)^2\n"
   ]
  },
  {
   "cell_type": "code",
   "execution_count": 35,
   "metadata": {},
   "outputs": [
    {
     "data": {
      "text/plain": [
       "0.4"
      ]
     },
     "execution_count": 35,
     "metadata": {},
     "output_type": "execute_result"
    }
   ],
   "source": [
    "\n",
    "# Una fraccion elevada a otra fraccion? Como es eso? :o \n",
    "\n",
    "(4//25)^(1//2)\n"
   ]
  },
  {
   "cell_type": "markdown",
   "metadata": {},
   "source": [
    "<br>\n",
    "\n",
    "### Valores Especiales"
   ]
  },
  {
   "cell_type": "markdown",
   "metadata": {},
   "source": [
    "Julia tiene valores numericos especiales y constantes reservados para facilitarnos el realizar calculos numericos. Veamos primero que constantes numericas podemos invocar en Julia.   "
   ]
  },
  {
   "attachments": {
    "pi_circle.png": {
     "image/png": "[encoded data removed]"
    }
   },
   "cell_type": "markdown",
   "metadata": {},
   "source": [
    "![pi_circle.png](attachment:pi_circle.png)"
   ]
  },
  {
   "cell_type": "code",
   "execution_count": 36,
   "metadata": {},
   "outputs": [
    {
     "data": {
      "text/plain": [
       "π = 3.1415926535897..."
      ]
     },
     "execution_count": 36,
     "metadata": {},
     "output_type": "execute_result"
    }
   ],
   "source": [
    "\n",
    "# La primera y favorita de todos!\n",
    "\n",
    "pi\n"
   ]
  },
  {
   "cell_type": "code",
   "execution_count": 37,
   "metadata": {},
   "outputs": [
    {
     "data": {
      "text/plain": [
       "π = 3.1415926535897..."
      ]
     },
     "execution_count": 37,
     "metadata": {},
     "output_type": "execute_result"
    }
   ],
   "source": [
    "\n",
    "# De hecho tambien puedes invocar a pi usando su simbolo\n",
    "\n",
    "π\n"
   ]
  },
  {
   "attachments": {
    "golden_ratio.webp": {
     "image/webp": "[encoded data removed]"
    }
   },
   "cell_type": "markdown",
   "metadata": {},
   "source": [
    "<br>\n",
    "\n",
    "![golden_ratio.webp](attachment:golden_ratio.webp)"
   ]
  },
  {
   "cell_type": "code",
   "execution_count": 38,
   "metadata": {},
   "outputs": [
    {
     "data": {
      "text/plain": [
       "φ = 1.6180339887498..."
      ]
     },
     "execution_count": 38,
     "metadata": {},
     "output_type": "execute_result"
    }
   ],
   "source": [
    "\n",
    "# Te gusta mas la razon dorada no te preocupes!\n",
    "\n",
    "Base.MathConstants.golden\n"
   ]
  },
  {
   "attachments": {
    "euler_number.jpg": {
     "image/jpeg": "[encoded data removed]"
    }
   },
   "cell_type": "markdown",
   "metadata": {},
   "source": [
    "<br>\n",
    "\n",
    "![euler_number.jpg](attachment:euler_number.jpg)"
   ]
  },
  {
   "cell_type": "code",
   "execution_count": 39,
   "metadata": {},
   "outputs": [
    {
     "data": {
      "text/plain": [
       "ℯ = 2.7182818284590..."
      ]
     },
     "execution_count": 39,
     "metadata": {},
     "output_type": "execute_result"
    }
   ],
   "source": [
    "\n",
    "# Necesitas el numero de Euler para un calculo? Aqui lo tienes!\n",
    "\n",
    "Base.MathConstants.e\n"
   ]
  },
  {
   "cell_type": "markdown",
   "metadata": {},
   "source": [
    "Como ya viste, invocar a $\\pi$ es muy facil, pero para las otras constantes es un poco mas tedioso, al menos por ahora. Si tan solo pudieramos 'guardar' esos valores en un 'caja' para usarlos despues y no tener que hacer esa tediosa invocacion! (Veremos como hacer justo en la siguient seccion!)\n",
    "\n",
    "Ahora veamos como lidia Julia con el infinito. "
   ]
  },
  {
   "cell_type": "code",
   "execution_count": 40,
   "metadata": {},
   "outputs": [
    {
     "data": {
      "text/plain": [
       "Inf"
      ]
     },
     "execution_count": 40,
     "metadata": {},
     "output_type": "execute_result"
    }
   ],
   "source": [
    "\n",
    "# Dividir por cero es seguro? Explotra tu maquina? :s \n",
    "\n",
    "1/0\n"
   ]
  },
  {
   "cell_type": "code",
   "execution_count": 41,
   "metadata": {},
   "outputs": [
    {
     "data": {
      "text/plain": [
       "0.0"
      ]
     },
     "execution_count": 41,
     "metadata": {},
     "output_type": "execute_result"
    }
   ],
   "source": [
    "\n",
    "# Y si hacemos lo contrario? Se ensambla tu maquina? :p \n",
    "\n",
    "1/Inf\n"
   ]
  },
  {
   "cell_type": "code",
   "execution_count": 42,
   "metadata": {},
   "outputs": [
    {
     "data": {
      "text/plain": [
       "-Inf"
      ]
     },
     "execution_count": 42,
     "metadata": {},
     "output_type": "execute_result"
    }
   ],
   "source": [
    "\n",
    "# Lo mismo pero al reves \n",
    "\n",
    "-1/0\n"
   ]
  },
  {
   "cell_type": "code",
   "execution_count": 43,
   "metadata": {},
   "outputs": [
    {
     "data": {
      "text/plain": [
       "Inf"
      ]
     },
     "execution_count": 43,
     "metadata": {},
     "output_type": "execute_result"
    }
   ],
   "source": [
    "\n",
    "# Tomemos un numerote y sumemosle otro numeron\n",
    "\n",
    "10000000 + Inf\n"
   ]
  },
  {
   "cell_type": "code",
   "execution_count": 44,
   "metadata": {},
   "outputs": [
    {
     "data": {
      "text/plain": [
       "-Inf"
      ]
     },
     "execution_count": 44,
     "metadata": {},
     "output_type": "execute_result"
    }
   ],
   "source": [
    "\n",
    "# Ahora restemoslo\n",
    "\n",
    "10000000 - Inf\n"
   ]
  },
  {
   "cell_type": "code",
   "execution_count": 45,
   "metadata": {},
   "outputs": [
    {
     "data": {
      "text/plain": [
       "Inf"
      ]
     },
     "execution_count": 45,
     "metadata": {},
     "output_type": "execute_result"
    }
   ],
   "source": [
    "\n",
    "# Cuanto es algo por infinito?\n",
    "\n",
    "3*Inf\n"
   ]
  },
  {
   "cell_type": "code",
   "execution_count": 46,
   "metadata": {},
   "outputs": [
    {
     "data": {
      "text/plain": [
       "Inf"
      ]
     },
     "execution_count": 46,
     "metadata": {},
     "output_type": "execute_result"
    }
   ],
   "source": [
    "\n",
    "# Se te habia ocurrido sumar infinito con infinito?\n",
    "\n",
    "Inf + Inf\n"
   ]
  },
  {
   "cell_type": "code",
   "execution_count": 47,
   "metadata": {},
   "outputs": [
    {
     "data": {
      "text/plain": [
       "NaN"
      ]
     },
     "execution_count": 47,
     "metadata": {},
     "output_type": "execute_result"
    }
   ],
   "source": [
    "\n",
    "# Y si los restamos?\n",
    "\n",
    "Inf - Inf\n"
   ]
  },
  {
   "cell_type": "code",
   "execution_count": 48,
   "metadata": {},
   "outputs": [
    {
     "data": {
      "text/plain": [
       "Inf"
      ]
     },
     "execution_count": 48,
     "metadata": {},
     "output_type": "execute_result"
    }
   ],
   "source": [
    "\n",
    "# Esto se esta saliendo de control muy rapido!\n",
    "\n",
    "Inf*Inf\n"
   ]
  },
  {
   "cell_type": "code",
   "execution_count": 49,
   "metadata": {},
   "outputs": [
    {
     "data": {
      "text/plain": [
       "NaN"
      ]
     },
     "execution_count": 49,
     "metadata": {},
     "output_type": "execute_result"
    }
   ],
   "source": [
    "\n",
    "# Esta operacion dara uno? Deberia dar uno? Estas seguro? \n",
    "\n",
    "Inf/Inf\n"
   ]
  },
  {
   "cell_type": "code",
   "execution_count": 50,
   "metadata": {},
   "outputs": [
    {
     "data": {
      "text/plain": [
       "NaN"
      ]
     },
     "execution_count": 50,
     "metadata": {},
     "output_type": "execute_result"
    }
   ],
   "source": [
    "\n",
    "# Y esta otra deberia ser cero? Seguro? \n",
    "\n",
    "0*Inf\n"
   ]
  },
  {
   "cell_type": "code",
   "execution_count": 51,
   "metadata": {},
   "outputs": [
    {
     "data": {
      "text/plain": [
       "0.0"
      ]
     },
     "execution_count": 51,
     "metadata": {},
     "output_type": "execute_result"
    }
   ],
   "source": [
    "\n",
    "# Y esto?\n",
    "\n",
    "0/Inf\n"
   ]
  },
  {
   "cell_type": "code",
   "execution_count": 52,
   "metadata": {},
   "outputs": [
    {
     "data": {
      "text/plain": [
       "Inf"
      ]
     },
     "execution_count": 52,
     "metadata": {},
     "output_type": "execute_result"
    }
   ],
   "source": [
    "\n",
    "# Y esto otro?\n",
    "\n",
    "Inf/0\n"
   ]
  },
  {
   "cell_type": "code",
   "execution_count": 53,
   "metadata": {},
   "outputs": [
    {
     "data": {
      "text/plain": [
       "NaN"
      ]
     },
     "execution_count": 53,
     "metadata": {},
     "output_type": "execute_result"
    }
   ],
   "source": [
    "\n",
    "# Puedes predicir que sera esto? \n",
    "\n",
    "0/0\n"
   ]
  },
  {
   "cell_type": "markdown",
   "metadata": {},
   "source": [
    "Nan es un valor especial que merece una discusion mas profunda, sinn embargo, dejaremos esa discusion para la seccion avanzada de numeros reales. Ya veras porque. "
   ]
  },
  {
   "cell_type": "markdown",
   "metadata": {},
   "source": [
    "<br>\n",
    "\n",
    "### Numeros Complejos"
   ]
  },
  {
   "cell_type": "code",
   "execution_count": 54,
   "metadata": {},
   "outputs": [
    {
     "data": {
      "text/plain": [
       "im"
      ]
     },
     "execution_count": 54,
     "metadata": {},
     "output_type": "execute_result"
    }
   ],
   "source": [
    "\n",
    "# La famosa unidad 'imaginaria'\n",
    "\n",
    "im\n"
   ]
  },
  {
   "cell_type": "code",
   "execution_count": 55,
   "metadata": {},
   "outputs": [
    {
     "data": {
      "text/plain": [
       "-1 + 0im"
      ]
     },
     "execution_count": 55,
     "metadata": {},
     "output_type": "execute_result"
    }
   ],
   "source": [
    "\n",
    "# Veamos si realmente su cuadrado da -1\n",
    "\n",
    "im^2\n"
   ]
  },
  {
   "cell_type": "code",
   "execution_count": 56,
   "metadata": {},
   "outputs": [
    {
     "data": {
      "text/plain": [
       "1 + 1im"
      ]
     },
     "execution_count": 56,
     "metadata": {},
     "output_type": "execute_result"
    }
   ],
   "source": [
    "\n",
    "# Asi definimos un numero complejo\n",
    "\n",
    "1 + im\n"
   ]
  },
  {
   "cell_type": "code",
   "execution_count": 57,
   "metadata": {},
   "outputs": [
    {
     "data": {
      "text/plain": [
       "8 + 7im"
      ]
     },
     "execution_count": 57,
     "metadata": {},
     "output_type": "execute_result"
    }
   ],
   "source": [
    "\n",
    "# Asi sumamos dos complejos\n",
    "\n",
    "(3 - im) + (5 + 8im)\n"
   ]
  },
  {
   "cell_type": "code",
   "execution_count": 58,
   "metadata": {},
   "outputs": [
    {
     "data": {
      "text/plain": [
       "12 + 8im"
      ]
     },
     "execution_count": 58,
     "metadata": {},
     "output_type": "execute_result"
    }
   ],
   "source": [
    "\n",
    "# Asi los restamos\n",
    "\n",
    "(7 + 13im) - (-5 + 5im)\n",
    "    "
   ]
  },
  {
   "cell_type": "code",
   "execution_count": 59,
   "metadata": {},
   "outputs": [
    {
     "data": {
      "text/plain": [
       "2.0 - 1.0im"
      ]
     },
     "execution_count": 59,
     "metadata": {},
     "output_type": "execute_result"
    }
   ],
   "source": [
    "\n",
    "# Puedes restarle un real a un complejo\n",
    "\n",
    "(2.4 - im) - 0.4\n"
   ]
  },
  {
   "cell_type": "code",
   "execution_count": 60,
   "metadata": {},
   "outputs": [
    {
     "data": {
      "text/plain": [
       "3//4 + 2//1*im"
      ]
     },
     "execution_count": 60,
     "metadata": {},
     "output_type": "execute_result"
    }
   ],
   "source": [
    "\n",
    "# O puedes restarle un complejo 'puro' a un complejo\n",
    "\n",
    "(3//4 + im) + im\n"
   ]
  },
  {
   "cell_type": "code",
   "execution_count": 61,
   "metadata": {},
   "outputs": [
    {
     "data": {
      "text/plain": [
       "6 - 9im"
      ]
     },
     "execution_count": 61,
     "metadata": {},
     "output_type": "execute_result"
    }
   ],
   "source": [
    "\n",
    "# Porque no multiplicarlo por un real?\n",
    "\n",
    "(2 - 3im)*3\n"
   ]
  },
  {
   "cell_type": "code",
   "execution_count": 62,
   "metadata": {},
   "outputs": [
    {
     "data": {
      "text/plain": [
       "22 + 6im"
      ]
     },
     "execution_count": 62,
     "metadata": {},
     "output_type": "execute_result"
    }
   ],
   "source": [
    "\n",
    "# Multipliquemos complejos por complejos! :D \n",
    "\n",
    "(4 + 2im)*(5 - im)\n"
   ]
  },
  {
   "cell_type": "code",
   "execution_count": 63,
   "metadata": {},
   "outputs": [
    {
     "data": {
      "text/plain": [
       "11.0 + 7.5im"
      ]
     },
     "execution_count": 63,
     "metadata": {},
     "output_type": "execute_result"
    }
   ],
   "source": [
    "\n",
    "# Desde luego podemos dividir complejos por reales\n",
    "\n",
    "(22 + 15im)/2\n"
   ]
  },
  {
   "cell_type": "code",
   "execution_count": 64,
   "metadata": {},
   "outputs": [
    {
     "data": {
      "text/plain": [
       "-0.8 - 2.2666666666666666im"
      ]
     },
     "execution_count": 64,
     "metadata": {},
     "output_type": "execute_result"
    }
   ],
   "source": [
    "\n",
    "# Como es dividir un complejo por otro complejo?\n",
    "\n",
    "(1 - 8im) / (3 +1.5im)\n"
   ]
  },
  {
   "cell_type": "code",
   "execution_count": 65,
   "metadata": {},
   "outputs": [
    {
     "data": {
      "text/plain": [
       "21 + 20im"
      ]
     },
     "execution_count": 65,
     "metadata": {},
     "output_type": "execute_result"
    }
   ],
   "source": [
    "\n",
    "# Vamos a usa la potencia en un complejo. Puedes predecir el resultado? \n",
    "\n",
    "(5 + 2im)^2\n"
   ]
  },
  {
   "cell_type": "code",
   "execution_count": 66,
   "metadata": {},
   "outputs": [
    {
     "data": {
      "text/plain": [
       "3.312045954892627 - 0.36613393897065444im"
      ]
     },
     "execution_count": 66,
     "metadata": {},
     "output_type": "execute_result"
    }
   ],
   "source": [
    "\n",
    "# Y esta otra potencia? Puedes con ella?  \n",
    "\n",
    "(6 - im)^(2/3)\n"
   ]
  },
  {
   "cell_type": "code",
   "execution_count": 67,
   "metadata": {},
   "outputs": [
    {
     "data": {
      "text/plain": [
       "0.5 - 0.5im"
      ]
     },
     "execution_count": 67,
     "metadata": {},
     "output_type": "execute_result"
    }
   ],
   "source": [
    "\n",
    "# Esta es muy facil verdad? \n",
    "\n",
    "(1+im)^-1\n"
   ]
  },
  {
   "cell_type": "code",
   "execution_count": 68,
   "metadata": {},
   "outputs": [
    {
     "data": {
      "text/plain": [
       "0.5395630252577598 - 1.1075634783751933im"
      ]
     },
     "execution_count": 68,
     "metadata": {},
     "output_type": "execute_result"
    }
   ],
   "source": [
    "\n",
    "# Wow wow wow wow, un complejo elevado a otro complejo? Que esta pasando aqui? Julia ayudame!\n",
    "\n",
    "(3 + 1/5im)^(1/4 - im)\n"
   ]
  },
  {
   "cell_type": "code",
   "execution_count": 69,
   "metadata": {},
   "outputs": [
    {
     "data": {
      "text/plain": [
       "12.0 + 0.6666666666666666im"
      ]
     },
     "execution_count": 69,
     "metadata": {},
     "output_type": "execute_result"
    }
   ],
   "source": [
    "\n",
    "# Algo interesante pasa aqui, entiendes que pasa?\n",
    "\n",
    "12 - 2/3im"
   ]
  },
  {
   "cell_type": "code",
   "execution_count": null,
   "metadata": {},
   "outputs": [],
   "source": []
  },
  {
   "cell_type": "code",
   "execution_count": null,
   "metadata": {},
   "outputs": [],
   "source": []
  },
  {
   "cell_type": "code",
   "execution_count": 70,
   "metadata": {},
   "outputs": [
    {
     "data": {
      "text/plain": [
       "11"
      ]
     },
     "execution_count": 70,
     "metadata": {},
     "output_type": "execute_result"
    }
   ],
   "source": [
    "\n",
    "# Podemos tomar la parte real de un complejo con esta funcion \n",
    "\n",
    "real(11 + 15im)\n"
   ]
  },
  {
   "cell_type": "code",
   "execution_count": 71,
   "metadata": {},
   "outputs": [
    {
     "data": {
      "text/plain": [
       "15"
      ]
     },
     "execution_count": 71,
     "metadata": {},
     "output_type": "execute_result"
    }
   ],
   "source": [
    "\n",
    "# Desde luego que podemos tambien tomar la parte imaginaria\n",
    "\n",
    "imag(11 + 15im)\n"
   ]
  },
  {
   "cell_type": "code",
   "execution_count": 72,
   "metadata": {},
   "outputs": [
    {
     "data": {
      "text/plain": [
       "11 - 15im"
      ]
     },
     "execution_count": 72,
     "metadata": {},
     "output_type": "execute_result"
    }
   ],
   "source": [
    "\n",
    "# Y tomar su complejo conjugado\n",
    "\n",
    "conj(11 + 15im)\n"
   ]
  },
  {
   "cell_type": "code",
   "execution_count": 73,
   "metadata": {},
   "outputs": [
    {
     "data": {
      "text/plain": [
       "18.60107523773827"
      ]
     },
     "execution_count": 73,
     "metadata": {},
     "output_type": "execute_result"
    }
   ],
   "source": [
    "\n",
    "# Incluso podemos tomar el valor absoluto\n",
    "\n",
    "abs(11 + 15im)\n"
   ]
  },
  {
   "cell_type": "code",
   "execution_count": 74,
   "metadata": {},
   "outputs": [
    {
     "data": {
      "text/plain": [
       "346"
      ]
     },
     "execution_count": 74,
     "metadata": {},
     "output_type": "execute_result"
    }
   ],
   "source": [
    "\n",
    "# Y el absoluto al cuadrado tambien por si lo prefieres\n",
    "\n",
    "abs2(11 + 15im)\n"
   ]
  },
  {
   "cell_type": "code",
   "execution_count": 75,
   "metadata": {},
   "outputs": [
    {
     "data": {
      "text/plain": [
       "0.9380474917927134"
      ]
     },
     "execution_count": 75,
     "metadata": {},
     "output_type": "execute_result"
    }
   ],
   "source": [
    "\n",
    "# Julia incluso te permite encontrar el angulo de los numeros complejos\n",
    "\n",
    "angle(11 + 15im)\n"
   ]
  },
  {
   "cell_type": "markdown",
   "metadata": {},
   "source": [
    "<br>\n",
    "\n",
    "### Numeros en Distintas Bases "
   ]
  },
  {
   "cell_type": "markdown",
   "metadata": {},
   "source": [
    "En ciertas ocasiones es mas conveniente cambiar la base numerica con la que estamos trabajando. La base numerica mas famosa, despues de la base 10 por supuesoto, es sin lugar a dudas la base binaria. Julia tiene una forma muy sencilla de definir numeros binarios y manipularlos a nuestro antojo. Como veras  continuacion, los numeros binarios comienzan siempre con `0b` seguidos de los digitos que definen al numero en esta base. "
   ]
  },
  {
   "cell_type": "code",
   "execution_count": 76,
   "metadata": {},
   "outputs": [
    {
     "data": {
      "text/plain": [
       "0x03"
      ]
     },
     "execution_count": 76,
     "metadata": {},
     "output_type": "execute_result"
    }
   ],
   "source": [
    "\n",
    "# Asi es como definimos un numero binario en Julia. Sabes cual es este?\n",
    "\n",
    "0b11\n"
   ]
  },
  {
   "cell_type": "code",
   "execution_count": 77,
   "metadata": {},
   "outputs": [
    {
     "data": {
      "text/plain": [
       "3"
      ]
     },
     "execution_count": 77,
     "metadata": {},
     "output_type": "execute_result"
    }
   ],
   "source": [
    "\n",
    "# Averiguemos cual es este numero binario\n",
    "\n",
    "Int(0b11)\n"
   ]
  },
  {
   "cell_type": "code",
   "execution_count": 78,
   "metadata": {},
   "outputs": [
    {
     "data": {
      "text/plain": [
       "0x02"
      ]
     },
     "execution_count": 78,
     "metadata": {},
     "output_type": "execute_result"
    }
   ],
   "source": [
    "\n",
    "# Puedes hacer aritmecia con numeros binarios :D \n",
    "\n",
    "0b11 - 0b1\n"
   ]
  },
  {
   "cell_type": "markdown",
   "metadata": {},
   "source": [
    "Pero porque conformarnos solo con numeros binarios?! Yo se que tu querido lector eres muy ambicioso y siempres buscas dar ese extra, Julia desde luego que lo sabe y por ello nos ha dotado de una funcion llamada `string` que nos permite convertir de forma muy sencilla cualquier numero a cualquer base. Veamos como funciona. "
   ]
  },
  {
   "cell_type": "code",
   "execution_count": 79,
   "metadata": {},
   "outputs": [
    {
     "data": {
      "text/plain": [
       "\"1111101001\""
      ]
     },
     "execution_count": 79,
     "metadata": {},
     "output_type": "execute_result"
    }
   ],
   "source": [
    "\n",
    "# Como es el numero 1,001 en binario?\n",
    "\n",
    "string(1001, base=2)\n"
   ]
  },
  {
   "cell_type": "code",
   "execution_count": 80,
   "metadata": {},
   "outputs": [
    {
     "data": {
      "text/plain": [
       "\"1101002\""
      ]
     },
     "execution_count": 80,
     "metadata": {},
     "output_type": "execute_result"
    }
   ],
   "source": [
    "\n",
    "# Como sera el numero 1,001 en trinario?\n",
    "\n",
    "string(1001, base=3)\n"
   ]
  },
  {
   "cell_type": "code",
   "execution_count": 81,
   "metadata": {},
   "outputs": [
    {
     "data": {
      "text/plain": [
       "\"2630\""
      ]
     },
     "execution_count": 81,
     "metadata": {},
     "output_type": "execute_result"
    }
   ],
   "source": [
    "\n",
    "# Y como sera 1,001 en base 7?\n",
    "\n",
    "string(1001, base=7)\n"
   ]
  },
  {
   "cell_type": "markdown",
   "metadata": {},
   "source": [
    "Se un heroe y verifica que los numeros que Julia nos dio son correctos!"
   ]
  },
  {
   "cell_type": "markdown",
   "metadata": {},
   "source": [
    "<br>\n",
    "<br>\n",
    "<br>\n",
    "<font size='6' style=\"color:#00A6D6\">  <b>Variables</b> </font>\n",
    "<a name=\"variables\"></a>\n",
    "\n",
    "[[ Volver al inicio ]](#indice)"
   ]
  },
  {
   "cell_type": "markdown",
   "metadata": {},
   "source": [
    "Tal y como aprendiste en la escuela, una variable es como una 'caja' donde puedes 'guardar' valores. Puedes guardar disntintos tipos de datos en las variables que definas e incluso puedes manipular tu codigo para que maneje variables 'locales' y 'globales', aunque eso lo discutiremos mas adelante; por ahora, vamos a aprender a definir variables y algunas conveciones para nombrarlas. "
   ]
  },
  {
   "cell_type": "markdown",
   "metadata": {},
   "source": [
    "### <br>\n",
    "<br>\n",
    "<font size='5' style=\"color:#4CAF50\">  <b>Variables Numericas</b></font>"
   ]
  },
  {
   "cell_type": "code",
   "execution_count": 82,
   "metadata": {},
   "outputs": [
    {
     "data": {
      "text/plain": [
       "2"
      ]
     },
     "execution_count": 82,
     "metadata": {},
     "output_type": "execute_result"
    }
   ],
   "source": [
    "\n",
    "# Empecemos con ejemplos sencillos y utiles. Una variable 'x' igual a un numero\n",
    "\n",
    "x = 2\n"
   ]
  },
  {
   "cell_type": "code",
   "execution_count": 83,
   "metadata": {},
   "outputs": [
    {
     "data": {
      "text/plain": [
       "2"
      ]
     },
     "execution_count": 83,
     "metadata": {},
     "output_type": "execute_result"
    }
   ],
   "source": [
    "\n",
    "# Veamos que pasa ahora si 'llamo' a x\n",
    "\n",
    "x\n"
   ]
  },
  {
   "cell_type": "markdown",
   "metadata": {},
   "source": [
    "<br>\n",
    "Como puedes ver, Julia ha almacenado el valor numerico de tu variable y lo ha recordado una vez que lo has llamado. De hecho, una vez declarada una varible, Julia recordara esa varible incluso si eliminas la celda donde est fue declarada; esto es cierto siempre y cuando te encuentres ejecutando una sesion interactiva y no reinicies el kernel de la misma. Ejecuta las siguientes celdas para que lo veas tu mismo. "
   ]
  },
  {
   "cell_type": "code",
   "execution_count": 84,
   "metadata": {},
   "outputs": [
    {
     "data": {
      "text/plain": [
       "22"
      ]
     },
     "execution_count": 84,
     "metadata": {},
     "output_type": "execute_result"
    }
   ],
   "source": [
    "\n",
    "# Primero declaramos una variable \n",
    "\n",
    "a = 22\n"
   ]
  },
  {
   "cell_type": "code",
   "execution_count": 85,
   "metadata": {},
   "outputs": [],
   "source": [
    "\n",
    "# Una vez que hallas ejecutado le celda anterior, eliminala!\n"
   ]
  },
  {
   "cell_type": "code",
   "execution_count": 86,
   "metadata": {},
   "outputs": [
    {
     "data": {
      "text/plain": [
       "22"
      ]
     },
     "execution_count": 86,
     "metadata": {},
     "output_type": "execute_result"
    }
   ],
   "source": [
    "\n",
    "\n",
    "# Ahora ejecuta esta celda y observa que valor obtenemos\n",
    "\n",
    "a \n"
   ]
  },
  {
   "cell_type": "markdown",
   "metadata": {},
   "source": [
    "Si tu variable es del tipo numerico, puedes realizar todas las operaciones matematicas permitidas para ese tipo de datos. Veamos un par de ejemplos. "
   ]
  },
  {
   "cell_type": "code",
   "execution_count": 87,
   "metadata": {},
   "outputs": [
    {
     "data": {
      "text/plain": [
       "7"
      ]
     },
     "execution_count": 87,
     "metadata": {},
     "output_type": "execute_result"
    }
   ],
   "source": [
    "\n",
    "# Podemos hacer sumas con nuetra variable\n",
    "\n",
    "x + 5\n"
   ]
  },
  {
   "cell_type": "code",
   "execution_count": 88,
   "metadata": {},
   "outputs": [
    {
     "data": {
      "text/plain": [
       "4"
      ]
     },
     "execution_count": 88,
     "metadata": {},
     "output_type": "execute_result"
    }
   ],
   "source": [
    "\n",
    "# Podemos hacer multiplicaciones\n",
    "\n",
    "2*x\n"
   ]
  },
  {
   "cell_type": "code",
   "execution_count": 89,
   "metadata": {},
   "outputs": [
    {
     "data": {
      "text/plain": [
       "10"
      ]
     },
     "execution_count": 89,
     "metadata": {},
     "output_type": "execute_result"
    }
   ],
   "source": [
    "\n",
    "# Julia incluso entiende cuando quieres omitir el signo de multiplicacion\n",
    "\n",
    "5x\n",
    "\n"
   ]
  },
  {
   "cell_type": "code",
   "execution_count": 90,
   "metadata": {},
   "outputs": [
    {
     "data": {
      "text/plain": [
       "3"
      ]
     },
     "execution_count": 90,
     "metadata": {},
     "output_type": "execute_result"
    }
   ],
   "source": [
    "\n",
    "# Tambien podemos substituir el valor de la variable\n",
    "\n",
    "x = 3\n"
   ]
  },
  {
   "cell_type": "code",
   "execution_count": 91,
   "metadata": {},
   "outputs": [
    {
     "data": {
      "text/plain": [
       "3"
      ]
     },
     "execution_count": 91,
     "metadata": {},
     "output_type": "execute_result"
    }
   ],
   "source": [
    "\n",
    "# El valor se ha actualizado \n",
    "\n",
    "x\n"
   ]
  },
  {
   "cell_type": "code",
   "execution_count": 92,
   "metadata": {},
   "outputs": [
    {
     "data": {
      "text/plain": [
       "5"
      ]
     },
     "execution_count": 92,
     "metadata": {},
     "output_type": "execute_result"
    }
   ],
   "source": [
    "\n",
    "# Incluso podemos definir a nuestra variable en terminos de un conjunto de operaciones\n",
    "\n",
    "x = 2*3 - 1\n"
   ]
  },
  {
   "cell_type": "code",
   "execution_count": 93,
   "metadata": {},
   "outputs": [
    {
     "data": {
      "text/plain": [
       "6"
      ]
     },
     "execution_count": 93,
     "metadata": {},
     "output_type": "execute_result"
    }
   ],
   "source": [
    "\n",
    "# Nuestra variable 'x' se siente sola, hagamosle compania :)\n",
    "# La funcion factorial que uso aqui se define como factorial(n) = n*(n-1)*(n-2)*...*1\n",
    "\n",
    "y = factorial(3)\n",
    "    "
   ]
  },
  {
   "cell_type": "markdown",
   "metadata": {},
   "source": [
    "<br>\n",
    "Una vez que has definido una o varias variables numericas puedes tambien realizar todas las operaciones matemticas validas para estas. Veamos algunos ejemplos. "
   ]
  },
  {
   "cell_type": "code",
   "execution_count": 94,
   "metadata": {},
   "outputs": [
    {
     "data": {
      "text/plain": [
       "11"
      ]
     },
     "execution_count": 94,
     "metadata": {},
     "output_type": "execute_result"
    }
   ],
   "source": [
    "\n",
    "# Suma entre variables\n",
    "\n",
    "x + y\n"
   ]
  },
  {
   "cell_type": "code",
   "execution_count": 95,
   "metadata": {},
   "outputs": [
    {
     "data": {
      "text/plain": [
       "1"
      ]
     },
     "execution_count": 95,
     "metadata": {},
     "output_type": "execute_result"
    }
   ],
   "source": [
    "\n",
    "# Resta entre variables\n",
    "\n",
    "y - x\n"
   ]
  },
  {
   "cell_type": "code",
   "execution_count": 96,
   "metadata": {},
   "outputs": [
    {
     "data": {
      "text/plain": [
       "30"
      ]
     },
     "execution_count": 96,
     "metadata": {},
     "output_type": "execute_result"
    }
   ],
   "source": [
    "\n",
    "# Incluso puedes definir una variable en funcion de otras!\n",
    "\n",
    "z = x*y\n"
   ]
  },
  {
   "cell_type": "code",
   "execution_count": 97,
   "metadata": {},
   "outputs": [
    {
     "data": {
      "text/plain": [
       "15625 + 30im"
      ]
     },
     "execution_count": 97,
     "metadata": {},
     "output_type": "execute_result"
    }
   ],
   "source": [
    "\n",
    "# Mientras utilices operaciones validas para el tipo de datos de tus variables puedes combinarlas como quieras!\n",
    "\n",
    "w = x^y + z*im\n"
   ]
  },
  {
   "cell_type": "markdown",
   "metadata": {},
   "source": [
    "Si eres de los que prefiere usar letras griegas o cualquier otro simbolo en especial, Julia te tiene cubierto! Julia puede usar cualquier simbolo del llamado 'Unicoce UTF-8'. Por ejemplo: "
   ]
  },
  {
   "cell_type": "code",
   "execution_count": 98,
   "metadata": {},
   "outputs": [
    {
     "data": {
      "text/plain": [
       "6"
      ]
     },
     "execution_count": 98,
     "metadata": {},
     "output_type": "execute_result"
    }
   ],
   "source": [
    "\n",
    "# Un dado con el numero 6\n",
    "\n",
    "⚅ = 6"
   ]
  },
  {
   "cell_type": "code",
   "execution_count": 99,
   "metadata": {},
   "outputs": [
    {
     "data": {
      "text/plain": [
       "6"
      ]
     },
     "execution_count": 99,
     "metadata": {},
     "output_type": "execute_result"
    }
   ],
   "source": [
    "\n",
    "# El dado sabe que el es el numero 6 \n",
    "\n",
    "⚅"
   ]
  },
  {
   "cell_type": "markdown",
   "metadata": {},
   "source": [
    "Si quieres ver la lista completa de los simbolos del 'Unicode UTF-8' checate la tabla...\n",
    "<br>\n",
    "Si ya estas familiarizado con $\\LaTeX$, tambien puedes ingresar tu simbolo favorito simplente colocando su codigo y presionando."
   ]
  },
  {
   "cell_type": "code",
   "execution_count": 100,
   "metadata": {},
   "outputs": [
    {
     "data": {
      "text/plain": [
       "Inf"
      ]
     },
     "execution_count": 100,
     "metadata": {},
     "output_type": "execute_result"
    }
   ],
   "source": [
    "\n",
    "# Un bonito Alef con un bonito infinito\n",
    "\n",
    "ℵ = Inf\n"
   ]
  },
  {
   "cell_type": "markdown",
   "metadata": {},
   "source": [
    "### <br>\n",
    "<br>\n",
    "<font size='5' style=\"color:#4CAF50\">  <b>Variables de Caracteres</b></font>"
   ]
  },
  {
   "cell_type": "markdown",
   "metadata": {},
   "source": [
    "Las variable tambien puede ser del tipo 'Cadena de Caracteres' (strings), un tipo de datos que abordaremos en la siguiente seccion. "
   ]
  },
  {
   "cell_type": "code",
   "execution_count": 101,
   "metadata": {},
   "outputs": [
    {
     "data": {
      "text/plain": [
       "\"Z\""
      ]
     },
     "execution_count": 101,
     "metadata": {},
     "output_type": "execute_result"
    }
   ],
   "source": [
    "\n",
    "# Pueden ser sol un caracter\n",
    "\n",
    "z = \"Z\"\n"
   ]
  },
  {
   "cell_type": "code",
   "execution_count": 102,
   "metadata": {},
   "outputs": [
    {
     "data": {
      "text/plain": [
       "\"Hola\""
      ]
     },
     "execution_count": 102,
     "metadata": {},
     "output_type": "execute_result"
    }
   ],
   "source": [
    "\n",
    "# O pueden ser palabras (cadena de caracteres)\n",
    "\n",
    "h = \"Hola\"\n"
   ]
  },
  {
   "cell_type": "code",
   "execution_count": 103,
   "metadata": {},
   "outputs": [
    {
     "data": {
      "text/plain": [
       "\"Somos lo que hacemos día a día. De modo que la excelencia no es un acto sino un hábito.\""
      ]
     },
     "execution_count": 103,
     "metadata": {},
     "output_type": "execute_result"
    }
   ],
   "source": [
    "\n",
    "# Pueden ser frases completas\n",
    "\n",
    "c = \"Somos lo que hacemos día a día. De modo que la excelencia no es un acto sino un hábito.\"\n"
   ]
  },
  {
   "cell_type": "code",
   "execution_count": 104,
   "metadata": {},
   "outputs": [
    {
     "data": {
      "text/plain": [
       "\"El bastón, las monedas, el llavero,\\nla dócil cerradura, las tardías\\nnotas que no leerán los pocos días\\nque me quedan, los naipes y el tablero,\\n\\nun libro y en sus páginas la ajada\\nvioleta, monumento de una tarde\\nsin duda inolvidable y ya olvidada,\\nel rojo espejo occidental en que arde\\n\\nuna ilusoria aurora. ¡Cuántas cosas,\\nláminas, umbrales, atlas, copas, clavos,\\nnos sirven como tácitos esclavos,\\n\\nciegas y extrañamente sigilosas!\\nDurarán más allá de nuestro olvido;\\nno sabrán nunca que nos hemos ido.\""
      ]
     },
     "execution_count": 104,
     "metadata": {},
     "output_type": "execute_result"
    }
   ],
   "source": [
    "\n",
    "# Es mas si quieres, puedes almacenar tu poema favorito en una variable!\n",
    "\n",
    "poema = \n",
    "\n",
    "\"El bastón, las monedas, el llavero,\n",
    "la dócil cerradura, las tardías\n",
    "notas que no leerán los pocos días\n",
    "que me quedan, los naipes y el tablero,\n",
    "\n",
    "un libro y en sus páginas la ajada\n",
    "violeta, monumento de una tarde\n",
    "sin duda inolvidable y ya olvidada,\n",
    "el rojo espejo occidental en que arde\n",
    "\n",
    "una ilusoria aurora. ¡Cuántas cosas,\n",
    "láminas, umbrales, atlas, copas, clavos,\n",
    "nos sirven como tácitos esclavos,\n",
    "\n",
    "ciegas y extrañamente sigilosas!\n",
    "Durarán más allá de nuestro olvido;\n",
    "no sabrán nunca que nos hemos ido.\"\n"
   ]
  },
  {
   "cell_type": "markdown",
   "metadata": {},
   "source": [
    "Como puedes apreciar, nuestra variable 'poema' tiene un output bastante incomodo de leer; resolveremos esta cuestion en la siguiente seccion cuando discutamos cadenas de caracteres a profundidad. "
   ]
  },
  {
   "cell_type": "markdown",
   "metadata": {},
   "source": [
    "<br>\n",
    "<br>\n",
    "\n",
    "<font size='5' style=\"color:#4CAF50\">  <b>Nomenclatura de Variables</b></font>"
   ]
  },
  {
   "cell_type": "markdown",
   "metadata": {},
   "source": [
    "### Nombres Prohibidos"
   ]
  },
  {
   "cell_type": "markdown",
   "metadata": {},
   "source": [
    "Antes de comenzar a dictar la reglas y estandares para nombrar variables, debes saber que hay nombres que bajo ninguna circunstancia estan permitidos y no posdras usar. Esta notebook fue escrita con un kernel de Julia 1.2.0 y en esta version las palabras reservadas de Julia son: "
   ]
  },
  {
   "cell_type": "markdown",
   "metadata": {},
   "source": [
    "|      |       |        |          |      |\n",
    "|---   |---    |---     |---       |---   |\n",
    "|begin |while  |if      |for       |try   |\n",
    "|return|break  |continue|function  |macro |\n",
    "|quote |let    |local   |global    |const |\n",
    "|do    |struct |module  |baremodule|using |\n",
    "|import|export |end     |else      |elseif|\n",
    "|catch |finally|true    |false     |      |"
   ]
  },
  {
   "cell_type": "markdown",
   "metadata": {},
   "source": [
    "Veamos un par de ejemplos 'prohibidos'."
   ]
  },
  {
   "cell_type": "code",
   "execution_count": 105,
   "metadata": {},
   "outputs": [
    {
     "ename": "LoadError",
     "evalue": "syntax: unexpected \"=\"",
     "output_type": "error",
     "traceback": [
      "syntax: unexpected \"=\"",
      ""
     ]
    }
   ],
   "source": [
    "\n",
    "# Tratemos de asignar su version en español a alguna de estas palabras\n",
    "\n",
    "while = \"mientras\"\n",
    "    \n",
    "    "
   ]
  },
  {
   "cell_type": "code",
   "execution_count": 106,
   "metadata": {},
   "outputs": [
    {
     "ename": "LoadError",
     "evalue": "syntax: invalid \"do\" syntax",
     "output_type": "error",
     "traceback": [
      "syntax: invalid \"do\" syntax",
      ""
     ]
    }
   ],
   "source": [
    "\n",
    "# Se podra un numero?\n",
    "\n",
    "do = 2\n"
   ]
  },
  {
   "cell_type": "markdown",
   "metadata": {},
   "source": [
    "Como puedes ver, Julia no esperaba un operador de asignacion (=) en el primer ejemplo; del mismo modo en el segundo ejemplo Julia nos dice que la sintaxis para `do` no es valida. En ambos casos tenemos un error ya que estas palabras estan reservadas para trabajar de una manerca pre definida e inmutable por Julia. "
   ]
  },
  {
   "cell_type": "markdown",
   "metadata": {},
   "source": [
    "### Nombres Permitidos"
   ]
  },
  {
   "cell_type": "markdown",
   "metadata": {},
   "source": [
    "Muy bien, ahora que ya sabes que no debes de hacer, veamos que si puedes hacer y como hacerlo. Julia utiliza un conjunto de reglas sencillos para nombrar variables. Analicemos cada una de ellas. "
   ]
  },
  {
   "cell_type": "markdown",
   "metadata": {},
   "source": [
    "#### i. Los nombres de las variables deben comenzar con una letra (minuscula o mayuscula), un guion bajo o caracter unicode de tu preferencia. Recuerda que puedes usar lo caracter de $LaTeX$ usando el autocompletado de Julia con la tecla Tab."
   ]
  },
  {
   "cell_type": "code",
   "execution_count": 107,
   "metadata": {},
   "outputs": [
    {
     "data": {
      "text/plain": [
       "5"
      ]
     },
     "execution_count": 107,
     "metadata": {},
     "output_type": "execute_result"
    }
   ],
   "source": [
    "\n",
    "# Un buen nombre\n",
    "\n",
    "coco = 5\n"
   ]
  },
  {
   "cell_type": "code",
   "execution_count": 108,
   "metadata": {},
   "outputs": [
    {
     "ename": "ErrorException",
     "evalue": "syntax: \"32\" is not a valid function argument name",
     "output_type": "error",
     "traceback": [
      "syntax: \"32\" is not a valid function argument name",
      "",
      "Stacktrace:",
      " [1] top-level scope at /home/miguel/.julia/packages/IJulia/fRegO/src/kernel.jl:52"
     ]
    }
   ],
   "source": [
    "\n",
    "# Un mal nombre :(\n",
    "\n",
    "32casa = \"Luis\"\n"
   ]
  },
  {
   "cell_type": "code",
   "execution_count": 109,
   "metadata": {},
   "outputs": [
    {
     "data": {
      "text/plain": [
       "\"desierto\""
      ]
     },
     "execution_count": 109,
     "metadata": {},
     "output_type": "execute_result"
    }
   ],
   "source": [
    "\n",
    "# Otro buen nombre\n",
    "\n",
    "_camello = \"desierto\"\n"
   ]
  },
  {
   "cell_type": "code",
   "execution_count": 110,
   "metadata": {},
   "outputs": [
    {
     "ename": "LoadError",
     "evalue": "syntax: \"/\" is not a unary operator",
     "output_type": "error",
     "traceback": [
      "syntax: \"/\" is not a unary operator",
      ""
     ]
    }
   ],
   "source": [
    "\n",
    "# Otro mal nombre :S \n",
    "\n",
    "/cilantro = 18\n"
   ]
  },
  {
   "cell_type": "code",
   "execution_count": 111,
   "metadata": {},
   "outputs": [
    {
     "data": {
      "text/plain": [
       "42"
      ]
     },
     "execution_count": 111,
     "metadata": {},
     "output_type": "execute_result"
    }
   ],
   "source": [
    "\n",
    "# Otro nombre valido usando un caracter unicode ;) \n",
    "\n",
    "α1 = 42\n"
   ]
  },
  {
   "cell_type": "markdown",
   "metadata": {},
   "source": [
    "#### ii. Una vez que tienes caracter de inicio valido para tu variable, puedes usar cualquier caracter que quieras (del unicode-8) en tus variables. "
   ]
  },
  {
   "cell_type": "code",
   "execution_count": 112,
   "metadata": {},
   "outputs": [
    {
     "data": {
      "text/plain": [
       "1"
      ]
     },
     "execution_count": 112,
     "metadata": {},
     "output_type": "execute_result"
    }
   ],
   "source": [
    "\n",
    "# Usar guiones bajos despues del primer caracter es muy comun\n",
    "\n",
    "a_1 = 1\n"
   ]
  },
  {
   "cell_type": "code",
   "execution_count": 113,
   "metadata": {},
   "outputs": [
    {
     "data": {
      "text/plain": [
       "120"
      ]
     },
     "execution_count": 113,
     "metadata": {},
     "output_type": "execute_result"
    }
   ],
   "source": [
    "\n",
    "# Puedes usar signos de admiracion tambien\n",
    "\n",
    "a_5! = factorial(5) \n"
   ]
  },
  {
   "cell_type": "code",
   "execution_count": 114,
   "metadata": {},
   "outputs": [
    {
     "data": {
      "text/plain": [
       "\"orale\""
      ]
     },
     "execution_count": 114,
     "metadata": {},
     "output_type": "execute_result"
    }
   ],
   "source": [
    "\n",
    "# Y ese caracter al final del nombre?\n",
    "\n",
    "K_5_!_β = \"orale\"\n",
    "\n"
   ]
  },
  {
   "cell_type": "code",
   "execution_count": 115,
   "metadata": {},
   "outputs": [
    {
     "data": {
      "text/plain": [
       "\"Giorno\""
      ]
     },
     "execution_count": 115,
     "metadata": {},
     "output_type": "execute_result"
    }
   ],
   "source": [
    "\n",
    "# Inlcuso este nombre es valido :D\n",
    "\n",
    "_1_Got_P1Nk = \"Giorno\"\n"
   ]
  },
  {
   "cell_type": "markdown",
   "metadata": {},
   "source": [
    "<br>\n",
    "<br>\n",
    "\n",
    "<font size='5' style=\"color:#4CAF50\">  <b>Convencion de Estilo</b></font>"
   ]
  },
  {
   "cell_type": "markdown",
   "metadata": {},
   "source": [
    "La ciencia y ingenieria han evolucionado mucho como actividades humanas en este ultimo siglo, gracias al desarrollo tecnologco hoy en dia es mas facil y rapido compartir informacion. En esta Era de la Informacion, la colaboracion entre cientificos e ingenieros se ha vuelto cada vez mas critica; esto ha llevado a la necesidad de crear conveciones para nombrar unidades, procesos y fenomenos. La programacion no es una excepcion y Julia con lo vanguardista y guay que es tampoco. Por lo anterior, los usuarios de Julia han acordado las siguientes conveciones para nombrar variables que facilitan el compartir y desarrollar codigo como una comunidad. "
   ]
  },
  {
   "cell_type": "markdown",
   "metadata": {},
   "source": [
    "### Documentacion Oficial"
   ]
  },
  {
   "cell_type": "markdown",
   "metadata": {},
   "source": [
    "#### 1.- El nombre de las variables va siempre en minusculas."
   ]
  },
  {
   "cell_type": "code",
   "execution_count": 116,
   "metadata": {},
   "outputs": [
    {
     "data": {
      "text/plain": [
       "\"bonita\""
      ]
     },
     "execution_count": 116,
     "metadata": {},
     "output_type": "execute_result"
    }
   ],
   "source": [
    "\n",
    "# Haz esto\n",
    "\n",
    "mi_casa = \"bonita\"\n"
   ]
  },
  {
   "cell_type": "code",
   "execution_count": 117,
   "metadata": {},
   "outputs": [
    {
     "data": {
      "text/plain": [
       "\"grande\""
      ]
     },
     "execution_count": 117,
     "metadata": {},
     "output_type": "execute_result"
    }
   ],
   "source": [
    "\n",
    "# Y no esto\n",
    "\n",
    "mi_RANCHO = \"grande\"\n"
   ]
  },
  {
   "cell_type": "markdown",
   "metadata": {},
   "source": [
    "<br>"
   ]
  },
  {
   "cell_type": "markdown",
   "metadata": {},
   "source": [
    "#### 2.- La separacion de palabras se hace siempre con un guion bajo (`_`); sin embargo, no se recomienda el uso de guiones bajo a menos de que el nombre sea realmente dificil de leer. "
   ]
  },
  {
   "cell_type": "code",
   "execution_count": 118,
   "metadata": {},
   "outputs": [
    {
     "data": {
      "text/plain": [
       "12"
      ]
     },
     "execution_count": 118,
     "metadata": {},
     "output_type": "execute_result"
    }
   ],
   "source": [
    "\n",
    "# Es preferible hacer esto\n",
    "\n",
    "lomabaja = 12\n"
   ]
  },
  {
   "cell_type": "code",
   "execution_count": 119,
   "metadata": {},
   "outputs": [
    {
     "data": {
      "text/plain": [
       "21"
      ]
     },
     "execution_count": 119,
     "metadata": {},
     "output_type": "execute_result"
    }
   ],
   "source": [
    "\n",
    "# En lugar de esto, aunque ambos son aceptables\n",
    "\n",
    "loma_baja = 21\n"
   ]
  },
  {
   "cell_type": "markdown",
   "metadata": {},
   "source": [
    "<br>"
   ]
  },
  {
   "cell_type": "markdown",
   "metadata": {},
   "source": [
    "#### 3.- Nombres de tipos (`Types`) y modulos (`Modules`) comienzan con mayusculas y la separacion de palabras se hace mediante mayusculas en lugar de guiones."
   ]
  },
  {
   "cell_type": "code",
   "execution_count": 120,
   "metadata": {},
   "outputs": [
    {
     "name": "stdout",
     "output_type": "stream",
     "text": [
      "Hola"
     ]
    },
    {
     "data": {
      "text/plain": [
       "Main.MiPrimerModulo"
      ]
     },
     "execution_count": 120,
     "metadata": {},
     "output_type": "execute_result"
    }
   ],
   "source": [
    "\n",
    "# Esto es nu modulo, ya lo doscutiremos en su propoa seccion\n",
    "\n",
    "module MiPrimerModulo\n",
    "\n",
    "print(\"Hola\")\n",
    "\n",
    "end\n"
   ]
  },
  {
   "cell_type": "code",
   "execution_count": 121,
   "metadata": {},
   "outputs": [],
   "source": [
    "\n",
    "# Esto otro es una definicion de un tipo de dato, lo discutiremos en su propia seccion avanzada tambien\n",
    "\n",
    "abstract type HumanoDeMexico end\n"
   ]
  },
  {
   "cell_type": "markdown",
   "metadata": {},
   "source": [
    "<br>"
   ]
  },
  {
   "cell_type": "markdown",
   "metadata": {},
   "source": [
    "#### 4.- Los nombres de funciones (`functions`) y macros (`macroos`) siempre van en minusculas y si ningun gion bajo. "
   ]
  },
  {
   "cell_type": "code",
   "execution_count": 122,
   "metadata": {},
   "outputs": [
    {
     "data": {
      "text/plain": [
       "cuadradonumerico (generic function with 1 method)"
      ]
     },
     "execution_count": 122,
     "metadata": {},
     "output_type": "execute_result"
    }
   ],
   "source": [
    "\n",
    "# Este es un ejemplo sencillo de una funcion\n",
    "\n",
    "function cuadradonumerico(x)\n",
    "    x^2\n",
    "end\n"
   ]
  },
  {
   "cell_type": "code",
   "execution_count": 123,
   "metadata": {},
   "outputs": [
    {
     "data": {
      "text/plain": [
       "100"
      ]
     },
     "execution_count": 123,
     "metadata": {},
     "output_type": "execute_result"
    }
   ],
   "source": [
    "\n",
    "# Fijate como funciona\n",
    "\n",
    "cuadradonumerico(10)\n"
   ]
  },
  {
   "cell_type": "code",
   "execution_count": 124,
   "metadata": {},
   "outputs": [
    {
     "data": {
      "text/plain": [
       "@ama (macro with 1 method)"
      ]
     },
     "execution_count": 124,
     "metadata": {},
     "output_type": "execute_result"
    }
   ],
   "source": [
    "\n",
    "# Y este otro objeto es un macro\n",
    "\n",
    "macro ama(persona)\n",
    "    \n",
    "    return:( print(\"Te amo \", $persona) )\n",
    "    \n",
    "end\n",
    "\n"
   ]
  },
  {
   "cell_type": "code",
   "execution_count": 125,
   "metadata": {},
   "outputs": [
    {
     "name": "stdout",
     "output_type": "stream",
     "text": [
      "Te amo Ana"
     ]
    }
   ],
   "source": [
    "\n",
    "# Y asi es como usas un macro, de nuevo no te preocupes si no entiendes que y porque esta pasando lo que ves\n",
    "# Ya discutiremos macros a profundidad mas adelante\n",
    "\n",
    "@ama(\"Ana\")"
   ]
  },
  {
   "cell_type": "markdown",
   "metadata": {},
   "source": [
    "<br>"
   ]
  },
  {
   "cell_type": "markdown",
   "metadata": {},
   "source": [
    "#### 5.- El nombre de funciones que modifican a sus argumentos debe siempre llevar un signo de admiracion al final (`!`). "
   ]
  },
  {
   "cell_type": "code",
   "execution_count": 126,
   "metadata": {},
   "outputs": [
    {
     "data": {
      "text/plain": [
       "funcioncita! (generic function with 1 method)"
      ]
     },
     "execution_count": 126,
     "metadata": {},
     "output_type": "execute_result"
    }
   ],
   "source": [
    "\n",
    "# Esta funcion ejemplo toma un numero y lo multiplica por dos, luego te devuelve el numero que le diste mas uno\n",
    "\n",
    "function funcioncita!(num)\n",
    "    \n",
    "    global numero\n",
    "    \n",
    "    print(\"El doble de \", numero, \" es: \", 2*numero)\n",
    "    \n",
    "    num = numero + 1\n",
    "    numero = num \n",
    "    \n",
    "    print(\"\\nTu numero ha sido actualizado ha: \", numero)\n",
    "    \n",
    "end\n"
   ]
  },
  {
   "cell_type": "code",
   "execution_count": 127,
   "metadata": {},
   "outputs": [
    {
     "name": "stdout",
     "output_type": "stream",
     "text": [
      "El doble de 11 es: 22\n",
      "Tu numero ha sido actualizado ha: 12"
     ]
    }
   ],
   "source": [
    "\n",
    "\n",
    "\n",
    "numero = 11\n",
    "\n",
    "funcioncita!(numero)\n"
   ]
  },
  {
   "cell_type": "code",
   "execution_count": 128,
   "metadata": {},
   "outputs": [
    {
     "data": {
      "text/plain": [
       "12"
      ]
     },
     "execution_count": 128,
     "metadata": {},
     "output_type": "execute_result"
    }
   ],
   "source": [
    "numero"
   ]
  },
  {
   "cell_type": "markdown",
   "metadata": {},
   "source": [
    "<br>\n",
    "<br>\n",
    "<br>\n",
    "<font size='6' style=\"color:#00A6D6\">  <b>Cadenas de Caracteres</b> </font>\n",
    "<a name=\"strings\"></a>\n",
    "\n",
    "[[ Volver al inicio ]](#indice)"
   ]
  },
  {
   "cell_type": "markdown",
   "metadata": {},
   "source": [
    "Tellus rutrum tellus pellentesque eu tincidunt tortor aliquam. Mauris pharetra et ultrices neque ornare aenean. Sed adipiscing diam donec adipiscing tristique risus nec. Nunc scelerisque viverra mauris in aliquam sem fringilla. At tellus at urna condimentum mattis pellentesque id nibh tortor. Id cursus metus aliquam eleifend mi in nulla posuere. Interdum velit laoreet id donec ultrices tincidunt arcu. In cursus turpis massa tincidunt dui ut ornare lectus. Morbi non arcu risus quis varius quam quisque id. A iaculis at erat pellentesque. Elementum facilisis leo vel fringilla est ullamcorper eget nulla. Interdum velit euismod in pellentesque."
   ]
  },
  {
   "cell_type": "markdown",
   "metadata": {},
   "source": [
    "<br>\n",
    "<br>\n",
    "\n",
    "<font size='5' style=\"color:#4CAF50\">  <b>Lo Basico de las Cadenas de Caracteres</b></font>"
   ]
  },
  {
   "cell_type": "code",
   "execution_count": 129,
   "metadata": {},
   "outputs": [
    {
     "data": {
      "text/plain": [
       "'a': ASCII/Unicode U+0061 (category Ll: Letter, lowercase)"
      ]
     },
     "execution_count": 129,
     "metadata": {},
     "output_type": "execute_result"
    }
   ],
   "source": [
    "\n",
    "# Asi se define un caracter\n",
    "\n",
    "'a'\n"
   ]
  },
  {
   "cell_type": "code",
   "execution_count": 130,
   "metadata": {},
   "outputs": [
    {
     "data": {
      "text/plain": [
       "\"a\""
      ]
     },
     "execution_count": 130,
     "metadata": {},
     "output_type": "execute_result"
    }
   ],
   "source": [
    "\n",
    "# Y asi una cadena de caracteres\n",
    "\n",
    "\"a\"\n"
   ]
  },
  {
   "cell_type": "code",
   "execution_count": 131,
   "metadata": {},
   "outputs": [
    {
     "data": {
      "text/plain": [
       "Char"
      ]
     },
     "execution_count": 131,
     "metadata": {},
     "output_type": "execute_result"
    }
   ],
   "source": [
    "\n",
    "# Comprobemoslo\n",
    "\n",
    "typeof('a')\n"
   ]
  },
  {
   "cell_type": "code",
   "execution_count": 132,
   "metadata": {},
   "outputs": [
    {
     "data": {
      "text/plain": [
       "String"
      ]
     },
     "execution_count": 132,
     "metadata": {},
     "output_type": "execute_result"
    }
   ],
   "source": [
    "\n",
    "# Y tambien este\n",
    "\n",
    "typeof(\"a\")\n"
   ]
  },
  {
   "cell_type": "code",
   "execution_count": 133,
   "metadata": {},
   "outputs": [
    {
     "ename": "LoadError",
     "evalue": "syntax: invalid character literal",
     "output_type": "error",
     "traceback": [
      "syntax: invalid character literal",
      ""
     ]
    }
   ],
   "source": [
    "\n",
    "# Se puede hacer esto?\n",
    "\n",
    "'ab'\n"
   ]
  },
  {
   "cell_type": "code",
   "execution_count": 134,
   "metadata": {},
   "outputs": [
    {
     "data": {
      "text/plain": [
       "\"ab\""
      ]
     },
     "execution_count": 134,
     "metadata": {},
     "output_type": "execute_result"
    }
   ],
   "source": [
    "\n",
    "# Pero esto si? Ves porque?\n",
    "\n",
    "\"ab\"\n"
   ]
  },
  {
   "cell_type": "code",
   "execution_count": 135,
   "metadata": {},
   "outputs": [
    {
     "data": {
      "text/plain": [
       "\"Hola\""
      ]
     },
     "execution_count": 135,
     "metadata": {},
     "output_type": "execute_result"
    }
   ],
   "source": [
    "\n",
    "# Podemos definir una palabra, justo como una cadena de caracteres! \n",
    "\n",
    "palabra = \"Hola\"\n"
   ]
  },
  {
   "cell_type": "code",
   "execution_count": 136,
   "metadata": {},
   "outputs": [
    {
     "data": {
      "text/plain": [
       "\"Hola Mundo!\""
      ]
     },
     "execution_count": 136,
     "metadata": {},
     "output_type": "execute_result"
    }
   ],
   "source": [
    "\n",
    "# Las cadenas sirven tambien para crear oraciones\n",
    "\n",
    "oracion = \"Hola Mundo!\"\n"
   ]
  },
  {
   "cell_type": "code",
   "execution_count": 137,
   "metadata": {},
   "outputs": [
    {
     "data": {
      "text/plain": [
       "'H': ASCII/Unicode U+0048 (category Lu: Letter, uppercase)"
      ]
     },
     "execution_count": 137,
     "metadata": {},
     "output_type": "execute_result"
    }
   ],
   "source": [
    "\n",
    "# Podemos acceder a cada caracter que forma una palabra por medio de sus indices.\n",
    "# Abordaremos el tema de indices y \"slicing\" con mucho mayor detalle en otra leccion, pero por ahora\n",
    "# es util que sepas que existe y que lo podemos usar de la siguiente manera\n",
    "\n",
    "# Aqui este el primer caracter de \"palabra\"\n",
    "\n",
    "palabra[1]\n"
   ]
  },
  {
   "cell_type": "code",
   "execution_count": 138,
   "metadata": {},
   "outputs": [
    {
     "ename": "BoundsError",
     "evalue": "BoundsError: attempt to access \"Hola\"\n  at index [0]",
     "output_type": "error",
     "traceback": [
      "BoundsError: attempt to access \"Hola\"\n  at index [0]",
      "",
      "Stacktrace:",
      " [1] checkbounds at ./strings/basic.jl:193 [inlined]",
      " [2] codeunit at ./strings/string.jl:89 [inlined]",
      " [3] getindex(::String, ::Int64) at ./strings/string.jl:207",
      " [4] top-level scope at In[138]:1"
     ]
    }
   ],
   "source": [
    "\n",
    "# Nota como  Julia empieza a contar en 1 y no 0! (en otros lenguajes como python se empieza en 0) \n",
    "\n",
    "palabra[0]\n"
   ]
  },
  {
   "cell_type": "code",
   "execution_count": 139,
   "metadata": {},
   "outputs": [
    {
     "data": {
      "text/plain": [
       "\"Hola\""
      ]
     },
     "execution_count": 139,
     "metadata": {},
     "output_type": "execute_result"
    }
   ],
   "source": [
    "\n",
    "# Podemos acceder a toda la palabra con el siguiente comando.\n",
    "# Cuando lo pones asi [ : ], significa toma desde el INICIO hasta el FINAL, TODO. \n",
    "\n",
    "palabra[:]\n"
   ]
  },
  {
   "cell_type": "code",
   "execution_count": 140,
   "metadata": {},
   "outputs": [
    {
     "name": "stdout",
     "output_type": "stream",
     "text": [
      "H\n",
      "o\n",
      "l\n",
      "a"
     ]
    }
   ],
   "source": [
    "\n",
    "# Podemos corroborar la posicion de los caracteres imprimiendolos todos. \n",
    "\n",
    "print(palabra[1])\n",
    "print(\"\\n\")\n",
    "print(palabra[2])\n",
    "print(\"\\n\")\n",
    "print(palabra[3])\n",
    "print(\"\\n\")\n",
    "print(palabra[4])\n"
   ]
  },
  {
   "cell_type": "code",
   "execution_count": 141,
   "metadata": {},
   "outputs": [
    {
     "data": {
      "text/plain": [
       "\"Hola Mundo!\""
      ]
     },
     "execution_count": 141,
     "metadata": {},
     "output_type": "execute_result"
    }
   ],
   "source": [
    "\n",
    "# Podemos imprimir tambien toda la oracion\n",
    "\n",
    "oracion[:]\n"
   ]
  },
  {
   "cell_type": "code",
   "execution_count": 142,
   "metadata": {},
   "outputs": [
    {
     "data": {
      "text/plain": [
       "'a': ASCII/Unicode U+0061 (category Ll: Letter, lowercase)"
      ]
     },
     "execution_count": 142,
     "metadata": {},
     "output_type": "execute_result"
    }
   ],
   "source": [
    "\n",
    "# Cual es la cuarta posicion?\n",
    "\n",
    "oracion[4]\n"
   ]
  },
  {
   "cell_type": "code",
   "execution_count": 143,
   "metadata": {},
   "outputs": [
    {
     "data": {
      "text/plain": [
       "' ': ASCII/Unicode U+0020 (category Zs: Separator, space)"
      ]
     },
     "execution_count": 143,
     "metadata": {},
     "output_type": "execute_result"
    }
   ],
   "source": [
    "\n",
    "# Y la quinta?\n",
    "\n",
    "oracion[5]\n"
   ]
  },
  {
   "cell_type": "code",
   "execution_count": 144,
   "metadata": {},
   "outputs": [
    {
     "data": {
      "text/plain": [
       "'!': ASCII/Unicode U+0021 (category Po: Punctuation, other)"
      ]
     },
     "execution_count": 144,
     "metadata": {},
     "output_type": "execute_result"
    }
   ],
   "source": [
    "\n",
    "# Veamos el ultimo\n",
    "\n",
    "oracion[11]\n"
   ]
  },
  {
   "cell_type": "code",
   "execution_count": 145,
   "metadata": {},
   "outputs": [
    {
     "data": {
      "text/plain": [
       "'!': ASCII/Unicode U+0021 (category Po: Punctuation, other)"
      ]
     },
     "execution_count": 145,
     "metadata": {},
     "output_type": "execute_result"
    }
   ],
   "source": [
    "\n",
    "# Una forma mas rapida de ver el ultimo caracter es la siguiente\n",
    "\n",
    "oracion[end]\n"
   ]
  },
  {
   "cell_type": "code",
   "execution_count": 146,
   "metadata": {},
   "outputs": [
    {
     "data": {
      "text/plain": [
       "'o': ASCII/Unicode U+006f (category Ll: Letter, lowercase)"
      ]
     },
     "execution_count": 146,
     "metadata": {},
     "output_type": "execute_result"
    }
   ],
   "source": [
    "\n",
    "# Incluso podemos empezar a contar desde el ultimo lugar\n",
    "\n",
    "oracion[end-1]\n"
   ]
  },
  {
   "cell_type": "code",
   "execution_count": 147,
   "metadata": {},
   "outputs": [
    {
     "data": {
      "text/plain": [
       "'d': ASCII/Unicode U+0064 (category Ll: Letter, lowercase)"
      ]
     },
     "execution_count": 147,
     "metadata": {},
     "output_type": "execute_result"
    }
   ],
   "source": [
    "\n",
    "# Podemos acceder al antepenultimo lugar facilmente\n",
    "\n",
    "oracion[end-2]\n"
   ]
  },
  {
   "cell_type": "code",
   "execution_count": 148,
   "metadata": {},
   "outputs": [
    {
     "data": {
      "text/plain": [
       "' ': ASCII/Unicode U+0020 (category Zs: Separator, space)"
      ]
     },
     "execution_count": 148,
     "metadata": {},
     "output_type": "execute_result"
    }
   ],
   "source": [
    "\n",
    "# Se puede hacer aritmetica basica con estos indices!\n",
    "\n",
    "oracion[end÷2]\n"
   ]
  },
  {
   "cell_type": "code",
   "execution_count": 149,
   "metadata": {},
   "outputs": [
    {
     "ename": "BoundsError",
     "evalue": "BoundsError: attempt to access \"Hola Mundo!\"\n  at index [12]",
     "output_type": "error",
     "traceback": [
      "BoundsError: attempt to access \"Hola Mundo!\"\n  at index [12]",
      "",
      "Stacktrace:",
      " [1] checkbounds at ./strings/basic.jl:193 [inlined]",
      " [2] codeunit at ./strings/string.jl:89 [inlined]",
      " [3] getindex(::String, ::Int64) at ./strings/string.jl:207",
      " [4] top-level scope at In[149]:1"
     ]
    }
   ],
   "source": [
    "\n",
    "# Desde luego no puedes acceder a una posicion que no existe\n",
    "\n",
    "oracion[end+1]\n"
   ]
  },
  {
   "cell_type": "code",
   "execution_count": 150,
   "metadata": {},
   "outputs": [
    {
     "data": {
      "text/plain": [
       "\"Hola\""
      ]
     },
     "execution_count": 150,
     "metadata": {},
     "output_type": "execute_result"
    }
   ],
   "source": [
    "\n",
    "# Puedes especificar las posiciones que quieres mostrar\n",
    "\n",
    "oracion[1:4]\n"
   ]
  },
  {
   "cell_type": "code",
   "execution_count": 151,
   "metadata": {},
   "outputs": [
    {
     "data": {
      "text/plain": [
       "\"Hola \""
      ]
     },
     "execution_count": 151,
     "metadata": {},
     "output_type": "execute_result"
    }
   ],
   "source": [
    "\n",
    "# Mientras indiques posiciones validas no hay problema\n",
    "\n",
    "oracion[1:5]\n"
   ]
  },
  {
   "cell_type": "code",
   "execution_count": 152,
   "metadata": {},
   "outputs": [
    {
     "data": {
      "text/plain": [
       "\"Mundo!\""
      ]
     },
     "execution_count": 152,
     "metadata": {},
     "output_type": "execute_result"
    }
   ],
   "source": [
    "\n",
    "# Claro que puedes tomar atajos!\n",
    "\n",
    "oracion[6:end]\n"
   ]
  },
  {
   "cell_type": "code",
   "execution_count": 153,
   "metadata": {},
   "outputs": [
    {
     "data": {
      "text/plain": [
       "\"Mundo\""
      ]
     },
     "execution_count": 153,
     "metadata": {},
     "output_type": "execute_result"
    }
   ],
   "source": [
    "\n",
    "# Y variantes de los atajos!\n",
    "\n",
    "oracion[6:end-1]\n"
   ]
  },
  {
   "cell_type": "code",
   "execution_count": 154,
   "metadata": {},
   "outputs": [
    {
     "data": {
      "text/plain": [
       "'M': ASCII/Unicode U+004d (category Lu: Letter, uppercase)"
      ]
     },
     "execution_count": 154,
     "metadata": {},
     "output_type": "execute_result"
    }
   ],
   "source": [
    "\n",
    "# Lago que debes de observar es que cuando pides una posicion solamente, el resultado es un caracter\n",
    "\n",
    "oracion[6]\n"
   ]
  },
  {
   "cell_type": "code",
   "execution_count": 155,
   "metadata": {},
   "outputs": [
    {
     "data": {
      "text/plain": [
       "\"M\""
      ]
     },
     "execution_count": 155,
     "metadata": {},
     "output_type": "execute_result"
    }
   ],
   "source": [
    "\n",
    "# Pero si especificas de la siguiente manera, obtienes una cadena de caracteres?\n",
    "# Ves el porque?\n",
    "\n",
    "oracion[6:6]\n"
   ]
  },
  {
   "cell_type": "code",
   "execution_count": 156,
   "metadata": {},
   "outputs": [
    {
     "data": {
      "text/plain": [
       "\"Jenny\""
      ]
     },
     "execution_count": 156,
     "metadata": {},
     "output_type": "execute_result"
    }
   ],
   "source": [
    "\n",
    "# Podemos tambien definir cadenas de esta manera \n",
    "\n",
    "\"\"\"Jenny\"\"\"\n"
   ]
  },
  {
   "cell_type": "code",
   "execution_count": 159,
   "metadata": {},
   "outputs": [
    {
     "data": {
      "text/plain": [
       "\"Jenny\""
      ]
     },
     "execution_count": 159,
     "metadata": {},
     "output_type": "execute_result"
    }
   ],
   "source": [
    "\n",
    "# Observa como la siguiente cadena no tiene diferencia alguna con la anterior\n",
    "\n",
    "\"\"\"\n",
    "Jenny\"\"\"\n"
   ]
  },
  {
   "cell_type": "code",
   "execution_count": 160,
   "metadata": {},
   "outputs": [
    {
     "data": {
      "text/plain": [
       "\"\\nJenny\""
      ]
     },
     "execution_count": 160,
     "metadata": {},
     "output_type": "execute_result"
    }
   ],
   "source": [
    "\n",
    "# Pero la siguiente cadena si que tiene una diferencia con las dos anteriores\n",
    "\n",
    "\"\"\"\n",
    "\n",
    "Jenny\"\"\"\n"
   ]
  },
  {
   "cell_type": "code",
   "execution_count": 164,
   "metadata": {},
   "outputs": [
    {
     "data": {
      "text/plain": [
       "\"Jose \\nIngenieros\""
      ]
     },
     "execution_count": 164,
     "metadata": {},
     "output_type": "execute_result"
    }
   ],
   "source": [
    "\n",
    "# Un salto de renglon al inicio se comporta distinto de uno que esta en medio. \n",
    "# De hecho Julia ignora tambien el TAB!\n",
    "\n",
    "autor = \"\"\"\n",
    "        Jose \n",
    "        Ingenieros\"\"\"\n"
   ]
  },
  {
   "cell_type": "code",
   "execution_count": 167,
   "metadata": {},
   "outputs": [
    {
     "data": {
      "text/plain": [
       "'J': ASCII/Unicode U+004a (category Lu: Letter, uppercase)"
      ]
     },
     "execution_count": 167,
     "metadata": {},
     "output_type": "execute_result"
    }
   ],
   "source": [
    "\n",
    "# Cual es e primer caracter? No es un TAB o un espacio o si?\n",
    "\n",
    "autor[1]\n"
   ]
  },
  {
   "cell_type": "code",
   "execution_count": 168,
   "metadata": {},
   "outputs": [
    {
     "data": {
      "text/plain": [
       "' ': ASCII/Unicode U+0020 (category Zs: Separator, space)"
      ]
     },
     "execution_count": 168,
     "metadata": {},
     "output_type": "execute_result"
    }
   ],
   "source": [
    "\n",
    "# Veamos el quinto caracter\n",
    "\n",
    "autor[5]\n"
   ]
  },
  {
   "cell_type": "code",
   "execution_count": 169,
   "metadata": {},
   "outputs": [
    {
     "data": {
      "text/plain": [
       "'\\n': ASCII/Unicode U+000a (category Cc: Other, control)"
      ]
     },
     "execution_count": 169,
     "metadata": {},
     "output_type": "execute_result"
    }
   ],
   "source": [
    "\n",
    "# Adivinas cual es el sexto? \n",
    "\n",
    "autor[6]\n"
   ]
  },
  {
   "cell_type": "code",
   "execution_count": 170,
   "metadata": {},
   "outputs": [
    {
     "data": {
      "text/plain": [
       "\"El bastón, las monedas, el llavero,\\nla dócil cerradura, las tardías\\nnotas que no leerán los pocos días\\nque me quedan, los naipes y el tablero,\\n\\nun libro y en sus páginas la ajada\\nvioleta, monumento de una tarde\\nsin duda inolvidable y ya olvidada,\\nel rojo espejo occidental en que arde\\n\\nuna ilusoria aurora. ¡Cuántas cosas,\\nláminas, umbrales, atlas, copas, clavos,\\nnos sirven como tácitos esclavos,\\n\\nciegas y extrañamente sigilosas!\\nDurarán más allá de nuestro olvido;\\nno sabrán nunca que nos hemos ido.\""
      ]
     },
     "execution_count": 170,
     "metadata": {},
     "output_type": "execute_result"
    }
   ],
   "source": [
    "\n",
    "# Recuerdas cual era nuestro poema?\n",
    "\n",
    "poema\n"
   ]
  },
  {
   "cell_type": "code",
   "execution_count": 171,
   "metadata": {},
   "outputs": [
    {
     "data": {
      "text/plain": [
       "r\"\n",
       "El bastón, las monedas, el llavero,\n",
       "la dócil cerradura, las tardías\n",
       "notas que no leerán los pocos días\n",
       "que me quedan, los naipes y el tablero,\n",
       "\n",
       "un libro y en sus páginas la ajada\n",
       "violeta, monumento de una tarde\n",
       "sin duda inolvidable y ya olvidada,\n",
       "el rojo espejo occidental en que arde\n",
       "\n",
       "una ilusoria aurora. ¡Cuántas cosas,\n",
       "láminas, umbrales, atlas, copas, clavos,\n",
       "nos sirven como tácitos esclavos,\n",
       "\n",
       "ciegas y extrañamente sigilosas!\n",
       "Durarán más allá de nuestro olvido;\n",
       "no sabrán nunca que nos hemos ido.\""
      ]
     },
     "execution_count": 171,
     "metadata": {},
     "output_type": "execute_result"
    }
   ],
   "source": [
    "\n",
    "# Podemos hacerlo mas leible agregando una \"r\" antes de las comillas que definen la estructura del poema.\n",
    "# Esta \"r\" convierete nuestra cadena en una expresion regular que es mas legible. \n",
    "# Hablaremos de expresiones regulares a mayor detalle despues.\n",
    "\n",
    "las_cosas = r\"\n",
    "El bastón, las monedas, el llavero,\n",
    "la dócil cerradura, las tardías\n",
    "notas que no leerán los pocos días\n",
    "que me quedan, los naipes y el tablero,\n",
    "\n",
    "un libro y en sus páginas la ajada\n",
    "violeta, monumento de una tarde\n",
    "sin duda inolvidable y ya olvidada,\n",
    "el rojo espejo occidental en que arde\n",
    "\n",
    "una ilusoria aurora. ¡Cuántas cosas,\n",
    "láminas, umbrales, atlas, copas, clavos,\n",
    "nos sirven como tácitos esclavos,\n",
    "\n",
    "ciegas y extrañamente sigilosas!\n",
    "Durarán más allá de nuestro olvido;\n",
    "no sabrán nunca que nos hemos ido.\"\n"
   ]
  },
  {
   "cell_type": "code",
   "execution_count": 172,
   "metadata": {},
   "outputs": [
    {
     "data": {
      "text/plain": [
       "\"Usemos 'comillas' aqui\""
      ]
     },
     "execution_count": 172,
     "metadata": {},
     "output_type": "execute_result"
    }
   ],
   "source": [
    "\n",
    "# Y si quisieras usar comillas dentro de una cadena?\n",
    "\n",
    "\"Usemos 'comillas' aqui\"\n"
   ]
  },
  {
   "cell_type": "code",
   "execution_count": 176,
   "metadata": {},
   "outputs": [
    {
     "data": {
      "text/plain": [
       "\"Usemos \\\"comillas\\\" aqui tambien y 'aqui'\""
      ]
     },
     "execution_count": 176,
     "metadata": {},
     "output_type": "execute_result"
    }
   ],
   "source": [
    "\n",
    "# Observa como se comportan las comillas aqui \n",
    "\n",
    "\"\"\"Usemos \"comillas\" aqui tambien y 'aqui'\"\"\"\n"
   ]
  },
  {
   "cell_type": "markdown",
   "metadata": {},
   "source": [
    "<br>\n",
    "<br>\n",
    "\n",
    "<font size='5' style=\"color:#4CAF50\">  <b>Operaciones y Metodos basicos de las Cadenas de Caracteres</b></font>"
   ]
  },
  {
   "cell_type": "code",
   "execution_count": 177,
   "metadata": {},
   "outputs": [
    {
     "ename": "MethodError",
     "evalue": "MethodError: no method matching +(::String, ::String)\nClosest candidates are:\n  +(::Any, ::Any, !Matched::Any, !Matched::Any...) at operators.jl:529",
     "output_type": "error",
     "traceback": [
      "MethodError: no method matching +(::String, ::String)\nClosest candidates are:\n  +(::Any, ::Any, !Matched::Any, !Matched::Any...) at operators.jl:529",
      "",
      "Stacktrace:",
      " [1] top-level scope at In[177]:1"
     ]
    }
   ],
   "source": [
    "\n",
    "# Podemos sumar cadenas de caracteres?\n",
    "\n",
    "\"n\" + \"o\"\n"
   ]
  },
  {
   "cell_type": "code",
   "execution_count": 178,
   "metadata": {},
   "outputs": [
    {
     "data": {
      "text/plain": [
       "\"si\""
      ]
     },
     "execution_count": 178,
     "metadata": {},
     "output_type": "execute_result"
    }
   ],
   "source": [
    "\n",
    "# Y si las multipllicamos?\n",
    "\n",
    "\"s\" * \"i\"\n"
   ]
  },
  {
   "cell_type": "code",
   "execution_count": 179,
   "metadata": {},
   "outputs": [
    {
     "ename": "MethodError",
     "evalue": "MethodError: no method matching -(::String, ::String)",
     "output_type": "error",
     "traceback": [
      "MethodError: no method matching -(::String, ::String)",
      "",
      "Stacktrace:",
      " [1] top-level scope at In[179]:1"
     ]
    }
   ],
   "source": [
    "\n",
    "# Se pueden restar?\n",
    "\n",
    "\"5\" - \"1\"\n"
   ]
  },
  {
   "cell_type": "code",
   "execution_count": 180,
   "metadata": {},
   "outputs": [
    {
     "ename": "MethodError",
     "evalue": "MethodError: no method matching /(::String, ::String)",
     "output_type": "error",
     "traceback": [
      "MethodError: no method matching /(::String, ::String)",
      "",
      "Stacktrace:",
      " [1] top-level scope at In[180]:1"
     ]
    }
   ],
   "source": [
    "\n",
    "# O divididr?\n",
    "\n",
    "\"12\" / \"2\"\n"
   ]
  },
  {
   "cell_type": "code",
   "execution_count": 181,
   "metadata": {},
   "outputs": [
    {
     "ename": "MethodError",
     "evalue": "MethodError: no method matching *(::String, ::Int64)\nClosest candidates are:\n  *(::Any, ::Any, !Matched::Any, !Matched::Any...) at operators.jl:529\n  *(!Matched::Complex{Bool}, ::Real) at complex.jl:301\n  *(!Matched::Missing, ::Number) at missing.jl:94\n  ...",
     "output_type": "error",
     "traceback": [
      "MethodError: no method matching *(::String, ::Int64)\nClosest candidates are:\n  *(::Any, ::Any, !Matched::Any, !Matched::Any...) at operators.jl:529\n  *(!Matched::Complex{Bool}, ::Real) at complex.jl:301\n  *(!Matched::Missing, ::Number) at missing.jl:94\n  ...",
      "",
      "Stacktrace:",
      " [1] top-level scope at In[181]:1"
     ]
    }
   ],
   "source": [
    "\n",
    "# Puedo multiplicarlas para ahorrarme trabajo?\n",
    "\n",
    "\"z\"*15\n"
   ]
  },
  {
   "cell_type": "code",
   "execution_count": 182,
   "metadata": {},
   "outputs": [
    {
     "data": {
      "text/plain": [
       "\"zzzzzzzzzzzzzzz\""
      ]
     },
     "execution_count": 182,
     "metadata": {},
     "output_type": "execute_result"
    }
   ],
   "source": [
    "\n",
    "# Y si lo hacemos asi?\n",
    "\n",
    "\"z\"^15\n"
   ]
  },
  {
   "cell_type": "code",
   "execution_count": 184,
   "metadata": {},
   "outputs": [
    {
     "data": {
      "text/plain": [
       "\"aja\""
      ]
     },
     "execution_count": 184,
     "metadata": {},
     "output_type": "execute_result"
    }
   ],
   "source": [
    "\n",
    "# Una funcion util que nos ayuda a crear cadenas a partir de otras es \"string\"\n",
    "\n",
    "string(\"a\", \"j\", \"a\")\n"
   ]
  },
  {
   "cell_type": "code",
   "execution_count": 185,
   "metadata": {},
   "outputs": [
    {
     "data": {
      "text/plain": [
       "9-element Array{SubString{String},1}:\n",
       " \"Voz\"      \n",
       " \"de\"       \n",
       " \"la\"       \n",
       " \"guitarra\" \n",
       " \"mía\"      \n",
       " \"Al\"       \n",
       " \"despertar\"\n",
       " \"la\"       \n",
       " \"mañana\"   "
      ]
     },
     "execution_count": 185,
     "metadata": {},
     "output_type": "execute_result"
    }
   ],
   "source": [
    "\n",
    "# Podemos hacer lo contrario tamben. La funcion \"split\" toma una cadena y ...\n",
    "\n",
    "cadena = \"Voz de la guitarra mía Al despertar la mañana\"\n",
    "split(cadena)\n"
   ]
  },
  {
   "cell_type": "code",
   "execution_count": 186,
   "metadata": {},
   "outputs": [
    {
     "data": {
      "text/plain": [
       "10-element Array{SubString{String},1}:\n",
       " \"Voz de l\"   \n",
       " \" guit\"      \n",
       " \"rr\"         \n",
       " \" mí\"        \n",
       " \" Al despert\"\n",
       " \"r l\"        \n",
       " \" m\"         \n",
       " \"ñ\"          \n",
       " \"n\"          \n",
       " \"\"           "
      ]
     },
     "execution_count": 186,
     "metadata": {},
     "output_type": "execute_result"
    }
   ],
   "source": [
    "\n",
    "# Podemos usar la funcion \"split\" tambien para separar la cadena por letras especificas\n",
    "\n",
    "split(cadena, \"a\")\n"
   ]
  },
  {
   "cell_type": "code",
   "execution_count": 188,
   "metadata": {},
   "outputs": [
    {
     "data": {
      "text/plain": [
       "true"
      ]
     },
     "execution_count": 188,
     "metadata": {},
     "output_type": "execute_result"
    }
   ],
   "source": [
    "\n",
    "# La funcion \"occursin\" es muy util ya que nos permite buscar cadenas de caracteres dentro de otras\n",
    "# Busquemos el color rojo en nuesro poema\n",
    "\n",
    "occursin(\"rojo\", poema)\n"
   ]
  },
  {
   "cell_type": "code",
   "execution_count": 189,
   "metadata": {},
   "outputs": [
    {
     "data": {
      "text/plain": [
       "false"
      ]
     },
     "execution_count": 189,
     "metadata": {},
     "output_type": "execute_result"
    }
   ],
   "source": [
    "\n",
    "# Estara el color azul?\n",
    "\n",
    "occursin(\"azul\", poema)\n"
   ]
  },
  {
   "cell_type": "code",
   "execution_count": 190,
   "metadata": {},
   "outputs": [
    {
     "data": {
      "text/plain": [
       "\"Voz de la campana mía Al despertar la mañana\""
      ]
     },
     "execution_count": 190,
     "metadata": {},
     "output_type": "execute_result"
    }
   ],
   "source": [
    "\n",
    "# Una ultima funcion muy util antes de terminar esta seccion. \n",
    "# La funcion replace toma una cadena, encuentra todas las instancias de una subcadena (o caracter) y las \n",
    "# substituye por otra\n",
    "\n",
    "replace(cadena, \"guitarra\" => \"campana\")\n"
   ]
  },
  {
   "cell_type": "code",
   "execution_count": 192,
   "metadata": {},
   "outputs": [
    {
     "data": {
      "text/plain": [
       "\"Voz de lo guitorro mío Al despertor lo moñono\""
      ]
     },
     "execution_count": 192,
     "metadata": {},
     "output_type": "execute_result"
    }
   ],
   "source": [
    "\n",
    "# Podemos cambiar simples letras tambien\n",
    "\n",
    "replace(cadena, \"a\" => \"o\")\n"
   ]
  },
  {
   "cell_type": "code",
   "execution_count": null,
   "metadata": {},
   "outputs": [],
   "source": []
  },
  {
   "cell_type": "code",
   "execution_count": 193,
   "metadata": {},
   "outputs": [
    {
     "data": {
      "text/plain": [
       "\"Solo traigo un billete de 20\""
      ]
     },
     "execution_count": 193,
     "metadata": {},
     "output_type": "execute_result"
    }
   ],
   "source": [
    "\n",
    "# Podemos inserta el valor de una variable numerica\n",
    "\n",
    "billete = 20\n",
    "\n",
    "\"Solo traigo un billete de $billete\"\n"
   ]
  },
  {
   "cell_type": "code",
   "execution_count": 195,
   "metadata": {},
   "outputs": [
    {
     "data": {
      "text/plain": [
       "\"Mi comida favorita son las quesadillas\""
      ]
     },
     "execution_count": 195,
     "metadata": {},
     "output_type": "execute_result"
    }
   ],
   "source": [
    "\n",
    "# Y el de una variable de caracteres!\n",
    "\n",
    "comida_fav = \"quesadillas\"\n",
    "\n",
    "\"Mi comida favorita son las $comida_fav\"\n"
   ]
  },
  {
   "cell_type": "markdown",
   "metadata": {},
   "source": [
    "<br>\n",
    "<br>\n",
    "<br>\n",
    "<font size='6' style=\"color:#00A6D6\">  <b>Resumen.</b> </font>\n",
    "\n",
    "[[ Volver al inicio ]](#indice)"
   ]
  },
  {
   "cell_type": "markdown",
   "metadata": {},
   "source": [
    "Lorem ipsum dolor sit amet, consectetur adipiscing elit, sed do eiusmod tempor incididunt ut labore et dolore magna aliqua. Odio euismod lacinia at quis risus sed. Convallis tellus id interdum velit laoreet id donec. Tellus mauris a diam maecenas sed. Orci eu lobortis elementum nibh tellus molestie nunc non blandit. Volutpat lacus laoreet non curabitur gravida arcu. Egestas tellus rutrum tellus pellentesque eu. Euismod nisi porta lorem mollis aliquam ut porttitor. Urna neque viverra justo nec ultrices dui. Lacus luctus accumsan tortor posuere ac ut consequat.\n",
    "\n",
    "Fusce id velit ut tortor pretium. Tortor at auctor urna nunc id cursus. Mauris ultrices eros in cursus. Aliquet sagittis id consectetur purus ut. Maecenas ultricies mi eget mauris. Faucibus purus in massa tempor. Id faucibus nisl tincidunt eget nullam non nisi est. Pellentesque habitant morbi tristique senectus et netus et. Faucibus pulvinar elementum integer enim neque volutpat ac. Facilisis mauris sit amet massa vitae tortor condimentum lacinia quis. Magnis dis parturient montes nascetur ridiculus mus mauris vitae. Felis eget velit aliquet sagittis.\n",
    "\n",
    "Ut ornare lectus sit amet. Non tellus orci ac auctor augue mauris augue. Nunc mattis enim ut tellus elementum sagittis vitae et leo. Semper auctor neque vitae tempus. Eros in cursus turpis massa. Pellentesque adipiscing commodo elit at. Nam aliquam sem et tortor consequat id. Sed risus pretium quam vulputate. Molestie at elementum eu facilisis sed odio morbi quis commodo. Nisi vitae suscipit tellus mauris a diam. Feugiat nisl pretium fusce id velit ut tortor pretium. Mauris a diam maecenas sed enim ut sem viverra. Neque laoreet suspendisse interdum consectetur libero id faucibus.\n",
    "\n",
    "Tellus rutrum tellus pellentesque eu tincidunt tortor aliquam. Mauris pharetra et ultrices neque ornare aenean. Sed adipiscing diam donec adipiscing tristique risus nec. Nunc scelerisque viverra mauris in aliquam sem fringilla. At tellus at urna condimentum mattis pellentesque id nibh tortor. Id cursus metus aliquam eleifend mi in nulla posuere. Interdum velit laoreet id donec ultrices tincidunt arcu. In cursus turpis massa tincidunt dui ut ornare lectus. Morbi non arcu risus quis varius quam quisque id. A iaculis at erat pellentesque. Elementum facilisis leo vel fringilla est ullamcorper eget nulla. Interdum velit euismod in pellentesque.\n"
   ]
  },
  {
   "cell_type": "markdown",
   "metadata": {},
   "source": [
    "<br>\n",
    "<br>\n",
    "<br>\n",
    "<font size='6' style=\"color:#00A6D6\">  <b>Lecturas adicionales.</b> </font>\n",
    "\n",
    "[[ Volver al inicio ]](#indice)"
   ]
  },
  {
   "cell_type": "markdown",
   "metadata": {},
   "source": [
    "    (1) Primera\n",
    "    (2) Segunda\n",
    "    (3) Tercera"
   ]
  },
  {
   "cell_type": "markdown",
   "metadata": {},
   "source": [
    "<br>\n",
    "<br>\n",
    "<br>\n",
    "<font size='6' style=\"color:#00A6D6\">  <b>Referencias.</b> </font>\n",
    "\n",
    "[[ Volver al inicio ]](#indice)"
   ]
  },
  {
   "cell_type": "markdown",
   "metadata": {},
   "source": [
    "    [1] Primera\n",
    "    [2] Segunda\n",
    "    [3] Tercera"
   ]
  },
  {
   "cell_type": "code",
   "execution_count": null,
   "metadata": {},
   "outputs": [],
   "source": []
  },
  {
   "cell_type": "markdown",
   "metadata": {},
   "source": [
    "<br>\n",
    "<br>\n",
    "<br>\n",
    "<font size='6' style=\"color:#00A6D6\">  <b>Pendientes.</b> </font>\n",
    "\n",
    "[[ Volver al inicio ]](#indice)"
   ]
  },
  {
   "cell_type": "markdown",
   "metadata": {},
   "source": [
    "    1.- Agregar mis recomendaciones para el nombramiento de variables."
   ]
  },
  {
   "cell_type": "code",
   "execution_count": null,
   "metadata": {},
   "outputs": [],
   "source": []
  },
  {
   "cell_type": "code",
   "execution_count": null,
   "metadata": {},
   "outputs": [],
   "source": []
  }
 ],
 "metadata": {
  "kernelspec": {
   "display_name": "Julia 1.2.0",
   "language": "julia",
   "name": "julia-1.2"
  },
  "language_info": {
   "file_extension": ".jl",
   "mimetype": "application/julia",
   "name": "julia",
   "version": "1.2.0"
  }
 },
 "nbformat": 4,
 "nbformat_minor": 2
}
