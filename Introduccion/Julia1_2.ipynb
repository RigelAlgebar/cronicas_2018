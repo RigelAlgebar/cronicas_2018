{
 "cells": [
  {
   "cell_type": "markdown",
   "metadata": {},
   "source": [
    "En Julia se tienen, como en la mayoría de los lenguajes de programación tres tipos de argumentos que estaremos utilizando:\n",
    "\n",
    "1)String\n",
    "\n",
    "2)Integer\n",
    "\n",
    "3)Float\n",
    "\n",
    "Para poder identificarlos se tiene la función typeof()\n"
   ]
  },
  {
   "cell_type": "code",
   "execution_count": 2,
   "metadata": {
    "scrolled": true
   },
   "outputs": [
    {
     "name": "stdout",
     "output_type": "stream",
     "text": [
      "String\n",
      "Int64\n",
      "Float64\n"
     ]
    }
   ],
   "source": [
    "println(typeof(\"a\"))\n",
    "println(typeof(1))\n",
    "println(typeof(1.0))"
   ]
  },
  {
   "cell_type": "markdown",
   "metadata": {},
   "source": [
    "En casi todos lo programas no se trabaja tal cual con los argumentos, si no con variables.\n",
    "Una variable es aquello que defines y le asignas algún valor y posteriormente puedes llamar a dicha variable más adelante:\n",
    "\n",
    "a = \"a\"\n",
    "\n",
    "b = 1\n",
    "\n",
    "c = 1.0"
   ]
  },
  {
   "cell_type": "code",
   "execution_count": 3,
   "metadata": {},
   "outputs": [
    {
     "name": "stdout",
     "output_type": "stream",
     "text": [
      "a\n",
      "1\n",
      "1.0\n"
     ]
    }
   ],
   "source": [
    "a = \"a\"\n",
    "\n",
    "b = 1\n",
    "\n",
    "c = 1.0\n",
    "\n",
    "println(a)\n",
    "println(b)\n",
    "println(c)"
   ]
  },
  {
   "cell_type": "markdown",
   "metadata": {},
   "source": [
    "1) String\n",
    "\n",
    "Un string es una linea de texto que puede contener letras números y cáracteres especiales.\n",
    "En el primer ejercicio trabajamos con este tipo de argumentos, pero qué más podemos hacer con estos?\n",
    "\n",
    "Definamos 3 variables:\n",
    "\n",
    "a = \"abcde\"\n",
    "\n",
    "b = \"fghi\"\n",
    "\n",
    "c = \"jkl\""
   ]
  },
  {
   "cell_type": "code",
   "execution_count": 4,
   "metadata": {},
   "outputs": [
    {
     "data": {
      "text/plain": [
       "\"klm\""
      ]
     },
     "execution_count": 4,
     "metadata": {},
     "output_type": "execute_result"
    }
   ],
   "source": [
    "a = \"abcdef\"\n",
    "b = \"ghij\"\n",
    "c = \"klm\""
   ]
  },
  {
   "cell_type": "markdown",
   "metadata": {},
   "source": [
    "Para empezar se pueden contar la cantidad de letras que se tienen con la función \".len\"\n"
   ]
  },
  {
   "cell_type": "code",
   "execution_count": 5,
   "metadata": {},
   "outputs": [
    {
     "name": "stdout",
     "output_type": "stream",
     "text": [
      "6\n",
      "4\n",
      "3\n"
     ]
    }
   ],
   "source": [
    "println(a.len)\n",
    "println(b.len)\n",
    "println(c.len)"
   ]
  },
  {
   "cell_type": "markdown",
   "metadata": {},
   "source": [
    "Al igual podemos llamar algún caracter en especial de la siguiente forma:\n",
    "\n",
    "Si queremos obtener la primera letra y la última de todas las variables es de esta forma:\n",
    "\n",
    "print(a[1],\" \",a[end])\n"
   ]
  },
  {
   "cell_type": "code",
   "execution_count": 6,
   "metadata": {},
   "outputs": [
    {
     "name": "stdout",
     "output_type": "stream",
     "text": [
      "a f\n",
      "g j\n",
      "k m\n"
     ]
    }
   ],
   "source": [
    "println(a[1],\" \",a[end])\n",
    "println(b[1],\" \",b[end])\n",
    "println(c[1],\" \",c[end])"
   ]
  },
  {
   "cell_type": "markdown",
   "metadata": {},
   "source": [
    "Esto sería lo básico de saber sobre las variables tipo string."
   ]
  },
  {
   "cell_type": "markdown",
   "metadata": {},
   "source": [
    "2) Integer\n",
    "\n",
    "Lo que uno busca al aprender un lenguaje de programación no es escribir, como hasta el momento. O al menos, este no es el caso, por lo que para empezar con la parte númerica del curso.\n",
    "\n",
    "Para empezar se necesita entender que es un integer (entero), como ya sabemos un número entero es un conjunto de números que contienen los numeros naturales (1,2,3,4,5), los negativos de los números naturales y el cero. Con los enteros podemos realizar operaciones básicas."
   ]
  },
  {
   "cell_type": "code",
   "execution_count": 15,
   "metadata": {},
   "outputs": [
    {
     "data": {
      "text/plain": [
       "2"
      ]
     },
     "execution_count": 15,
     "metadata": {},
     "output_type": "execute_result"
    }
   ],
   "source": [
    "1+1"
   ]
  },
  {
   "cell_type": "code",
   "execution_count": 16,
   "metadata": {},
   "outputs": [
    {
     "data": {
      "text/plain": [
       "1"
      ]
     },
     "execution_count": 16,
     "metadata": {},
     "output_type": "execute_result"
    }
   ],
   "source": [
    "2-1"
   ]
  },
  {
   "cell_type": "code",
   "execution_count": 20,
   "metadata": {},
   "outputs": [
    {
     "data": {
      "text/plain": [
       "6"
      ]
     },
     "execution_count": 20,
     "metadata": {},
     "output_type": "execute_result"
    }
   ],
   "source": [
    "3*2"
   ]
  },
  {
   "cell_type": "code",
   "execution_count": 26,
   "metadata": {},
   "outputs": [
    {
     "data": {
      "text/plain": [
       "25"
      ]
     },
     "execution_count": 26,
     "metadata": {},
     "output_type": "execute_result"
    }
   ],
   "source": [
    "5^2"
   ]
  },
  {
   "cell_type": "code",
   "execution_count": 27,
   "metadata": {},
   "outputs": [
    {
     "data": {
      "text/plain": [
       "9"
      ]
     },
     "execution_count": 27,
     "metadata": {},
     "output_type": "execute_result"
    }
   ],
   "source": [
    "(1+2)*3"
   ]
  },
  {
   "cell_type": "code",
   "execution_count": 30,
   "metadata": {},
   "outputs": [
    {
     "data": {
      "text/plain": [
       "25"
      ]
     },
     "execution_count": 30,
     "metadata": {},
     "output_type": "execute_result"
    }
   ],
   "source": [
    "(2^5)-7"
   ]
  },
  {
   "cell_type": "code",
   "execution_count": 31,
   "metadata": {},
   "outputs": [
    {
     "data": {
      "text/plain": [
       "16"
      ]
     },
     "execution_count": 31,
     "metadata": {},
     "output_type": "execute_result"
    }
   ],
   "source": [
    "(2^2)^2"
   ]
  },
  {
   "cell_type": "code",
   "execution_count": 32,
   "metadata": {},
   "outputs": [
    {
     "data": {
      "text/plain": [
       "4"
      ]
     },
     "execution_count": 32,
     "metadata": {},
     "output_type": "execute_result"
    }
   ],
   "source": [
    "div(8,2)"
   ]
  },
  {
   "cell_type": "code",
   "execution_count": 33,
   "metadata": {},
   "outputs": [
    {
     "data": {
      "text/plain": [
       "4"
      ]
     },
     "execution_count": 33,
     "metadata": {},
     "output_type": "execute_result"
    }
   ],
   "source": [
    "div(9,2)"
   ]
  },
  {
   "cell_type": "markdown",
   "metadata": {},
   "source": [
    "La mayoría de las operaciones no hay problema pero fijemonos en la división, todos sabemos que 8 entre 2 son 4, pero 9 entre 2 no es 4, pero al tratarse de números naturales son números sin decimales, por lo que se ve truncado el resultado, a lo que nos lleva al siguiente tipo de argumento."
   ]
  },
  {
   "cell_type": "markdown",
   "metadata": {},
   "source": [
    "3) Float\n",
    "\n",
    "Los floats (flotantes) incluyen es el conjunto de números reales, los cuales contienen los números racionales (positivos, negativos y el cero) como a los números irracionales, trascendentes y algebraicos."
   ]
  },
  {
   "cell_type": "code",
   "execution_count": 34,
   "metadata": {},
   "outputs": [
    {
     "data": {
      "text/plain": [
       "2.1"
      ]
     },
     "execution_count": 34,
     "metadata": {},
     "output_type": "execute_result"
    }
   ],
   "source": [
    "1.0 + 1.1"
   ]
  },
  {
   "cell_type": "code",
   "execution_count": 35,
   "metadata": {},
   "outputs": [
    {
     "data": {
      "text/plain": [
       "0.8"
      ]
     },
     "execution_count": 35,
     "metadata": {},
     "output_type": "execute_result"
    }
   ],
   "source": [
    "2-1.2"
   ]
  },
  {
   "cell_type": "code",
   "execution_count": 36,
   "metadata": {},
   "outputs": [
    {
     "data": {
      "text/plain": [
       "28.8"
      ]
     },
     "execution_count": 36,
     "metadata": {},
     "output_type": "execute_result"
    }
   ],
   "source": [
    "3.6*8"
   ]
  },
  {
   "cell_type": "code",
   "execution_count": 40,
   "metadata": {},
   "outputs": [
    {
     "data": {
      "text/plain": [
       "4.41"
      ]
     },
     "execution_count": 40,
     "metadata": {},
     "output_type": "execute_result"
    }
   ],
   "source": [
    "2.1^2"
   ]
  },
  {
   "cell_type": "code",
   "execution_count": 41,
   "metadata": {},
   "outputs": [
    {
     "data": {
      "text/plain": [
       "1.3333333333333333"
      ]
     },
     "execution_count": 41,
     "metadata": {},
     "output_type": "execute_result"
    }
   ],
   "source": [
    "4/3"
   ]
  },
  {
   "cell_type": "code",
   "execution_count": 42,
   "metadata": {},
   "outputs": [
    {
     "data": {
      "text/plain": [
       "0.5"
      ]
     },
     "execution_count": 42,
     "metadata": {},
     "output_type": "execute_result"
    }
   ],
   "source": [
    "1/2"
   ]
  },
  {
   "cell_type": "markdown",
   "metadata": {},
   "source": [
    "Y cuál es la diferencia? Bueno, la diferencia reside en terminos computacionales ya que un entero que va del -128 al 127 ocupa un un tamaño de 1 byte y con 2 bytes abarca de -32768 a 32767;  los floats ocupan 4 bytes."
   ]
  },
  {
   "cell_type": "code",
   "execution_count": null,
   "metadata": {},
   "outputs": [],
   "source": []
  }
 ],
 "metadata": {
  "anaconda-cloud": {},
  "kernelspec": {
   "display_name": "Julia 0.6.1",
   "language": "julia",
   "name": "julia-0.6"
  },
  "language_info": {
   "file_extension": ".jl",
   "mimetype": "application/julia",
   "name": "julia",
   "version": "0.6.1"
  }
 },
 "nbformat": 4,
 "nbformat_minor": 2
}
