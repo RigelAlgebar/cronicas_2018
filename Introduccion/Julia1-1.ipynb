{
 "cells": [
  {
   "cell_type": "markdown",
   "metadata": {},
   "source": [
    "Julia"
   ]
  },
  {
   "cell_type": "markdown",
   "metadata": {
    "nbpresent": {
     "id": "5019dfe7-d459-4568-b12a-759bb853c40e"
    }
   },
   "source": [
    "Julia es un lenguaje de programación que surgió en el 2009. \n",
    "\n",
    "¿Por qué Julia?\n",
    "\n",
    "Julia es tan fácil de aprender como Python*, tan rápido como Fortran* y, lo mejor de todo, GRATIS!!!\n",
    "\n",
    "*En algunos casos...\n"
   ]
  },
  {
   "cell_type": "markdown",
   "metadata": {},
   "source": [
    "Entonces a darle!!!!"
   ]
  },
  {
   "cell_type": "markdown",
   "metadata": {},
   "source": [
    "Por razones historicas el primer programa que uno DEBE (lo se, en mayusculas) es imprimir \"Hello, World!\"\n",
    "\n",
    "Para poder realizar dicho comando se utilizara el siguiente comando:\n",
    "\n",
    "println(\"Hello World!\")\n"
   ]
  },
  {
   "cell_type": "code",
   "execution_count": null,
   "metadata": {
    "nbpresent": {
     "id": "c2545963-ecd4-44a1-9f3f-9a1ce68a7929"
    }
   },
   "outputs": [],
   "source": [
    "println(\"Hello World!\")"
   ]
  },
  {
   "cell_type": "markdown",
   "metadata": {},
   "source": [
    "O bien, tambien se puede utilizar este comando:\n",
    "print(\"Hello, World!\")"
   ]
  },
  {
   "cell_type": "code",
   "execution_count": null,
   "metadata": {
    "nbpresent": {
     "id": "661edb41-6b48-4030-ae98-cf2d75a6e659"
    }
   },
   "outputs": [],
   "source": [
    "print(\"Hello Wold!\")"
   ]
  },
  {
   "cell_type": "markdown",
   "metadata": {},
   "source": [
    "Y se preguntaran cual es la diferencia, entre la función println() y la función print()\n",
    "\n",
    "Para poder observar la diferencia hagamos el siguiente ejercicio:\n",
    "\n",
    "Vamos a hacer una carta para el amor de nuestra vida, la ciencia (OBVIAMENTE)!!!\n",
    "\n",
    "Para eso lo primero que tenemos que colocar es el destinatario que es la ciecia, para eso vamos a imprimir con alguna de las dos funciones la siguiente frase: \"Querida Ciencia;\"; porteriormente vamos a dejar un reglon de espacio para continuar; después de esto empieza nuestra carta donde podemos poner lo que sea que querramos dedicarle, nuevamente dejamos un renglon en blanco y, por último nuestro el remitente (o sea, nuestro nombre."
   ]
  },
  {
   "cell_type": "code",
   "execution_count": 3,
   "metadata": {},
   "outputs": [
    {
     "name": "stdout",
     "output_type": "stream",
     "text": [
      "Querida Ciencia;\n",
      "\n",
      "Te amo!!!\n",
      "\n",
      "Augusto\n"
     ]
    }
   ],
   "source": [
    "println(\"Querida Ciencia;\")\n",
    "println()\n",
    "println(\"Te amo!!!\")\n",
    "println()\n",
    "println(\"Augusto\")\n"
   ]
  },
  {
   "cell_type": "code",
   "execution_count": 4,
   "metadata": {},
   "outputs": [
    {
     "name": "stdout",
     "output_type": "stream",
     "text": [
      "Querida Ciencia;Te amo!!!Augusto"
     ]
    }
   ],
   "source": [
    "print(\"Querida Ciencia;\")\n",
    "print()\n",
    "print(\"Te amo!!!\")\n",
    "print()\n",
    "print(\"Augusto\")\n"
   ]
  },
  {
   "cell_type": "markdown",
   "metadata": {},
   "source": [
    "Con esto podemos observar las diferencias entre las dos funciones. Para lograr el mismo resultado con mambas funciones tenemos que agregar un caracter especial que es \"/n\", el cual nos da un espacio entre líneas:"
   ]
  },
  {
   "cell_type": "code",
   "execution_count": 1,
   "metadata": {},
   "outputs": [
    {
     "name": "stdout",
     "output_type": "stream",
     "text": [
      "Querida Ciencia; \n",
      "\n",
      "Te amo!!! \n",
      "\n",
      "Augusto"
     ]
    }
   ],
   "source": [
    "print(\"Querida Ciencia; \\n\")\n",
    "print(\"\\n\")\n",
    "print(\"Te amo!!! \\n\")\n",
    "print(\"\\n\")\n",
    "print(\"Augusto\")\n"
   ]
  },
  {
   "cell_type": "markdown",
   "metadata": {},
   "source": [
    "Listo!!!!"
   ]
  },
  {
   "cell_type": "code",
   "execution_count": null,
   "metadata": {},
   "outputs": [],
   "source": []
  }
 ],
 "metadata": {
  "anaconda-cloud": {},
  "kernelspec": {
   "display_name": "Julia 0.6.1",
   "language": "julia",
   "name": "julia-0.6"
  },
  "language_info": {
   "file_extension": ".jl",
   "mimetype": "application/julia",
   "name": "julia",
   "version": "0.6.1"
  },
  "nbpresent": {
   "slides": {},
   "themes": {
    "default": "cd70bc71-86ec-4a2e-bd4a-1980b482adaa",
    "theme": {
     "cd70bc71-86ec-4a2e-bd4a-1980b482adaa": {
      "backgrounds": {
       "dc7afa04-bf90-40b1-82a5-726e3cff5267": {
        "background-color": "31af15d2-7e15-44c5-ab5e-e04b16a89eff",
        "id": "dc7afa04-bf90-40b1-82a5-726e3cff5267"
       }
      },
      "id": "cd70bc71-86ec-4a2e-bd4a-1980b482adaa",
      "palette": {
       "19cc588f-0593-49c9-9f4b-e4d7cc113b1c": {
        "id": "19cc588f-0593-49c9-9f4b-e4d7cc113b1c",
        "rgb": [
         252,
         252,
         252
        ]
       },
       "31af15d2-7e15-44c5-ab5e-e04b16a89eff": {
        "id": "31af15d2-7e15-44c5-ab5e-e04b16a89eff",
        "rgb": [
         68,
         68,
         68
        ]
       },
       "50f92c45-a630-455b-aec3-788680ec7410": {
        "id": "50f92c45-a630-455b-aec3-788680ec7410",
        "rgb": [
         197,
         226,
         245
        ]
       },
       "c5cc3653-2ee1-402a-aba2-7caae1da4f6c": {
        "id": "c5cc3653-2ee1-402a-aba2-7caae1da4f6c",
        "rgb": [
         43,
         126,
         184
        ]
       },
       "efa7f048-9acb-414c-8b04-a26811511a21": {
        "id": "efa7f048-9acb-414c-8b04-a26811511a21",
        "rgb": [
         25.118061674008803,
         73.60176211453744,
         107.4819383259912
        ]
       }
      },
      "rules": {
       "a": {
        "color": "19cc588f-0593-49c9-9f4b-e4d7cc113b1c"
       },
       "blockquote": {
        "color": "50f92c45-a630-455b-aec3-788680ec7410",
        "font-size": 3
       },
       "code": {
        "font-family": "Anonymous Pro"
       },
       "h1": {
        "color": "19cc588f-0593-49c9-9f4b-e4d7cc113b1c",
        "font-family": "Merriweather",
        "font-size": 8
       },
       "h2": {
        "color": "19cc588f-0593-49c9-9f4b-e4d7cc113b1c",
        "font-family": "Merriweather",
        "font-size": 6
       },
       "h3": {
        "color": "50f92c45-a630-455b-aec3-788680ec7410",
        "font-family": "Lato",
        "font-size": 5.5
       },
       "h4": {
        "color": "c5cc3653-2ee1-402a-aba2-7caae1da4f6c",
        "font-family": "Lato",
        "font-size": 5
       },
       "h5": {
        "font-family": "Lato"
       },
       "h6": {
        "font-family": "Lato"
       },
       "h7": {
        "font-family": "Lato"
       },
       "li": {
        "color": "50f92c45-a630-455b-aec3-788680ec7410",
        "font-size": 3.25
       },
       "pre": {
        "font-family": "Anonymous Pro",
        "font-size": 4
       }
      },
      "text-base": {
       "color": "19cc588f-0593-49c9-9f4b-e4d7cc113b1c",
       "font-family": "Lato",
       "font-size": 4
      }
     }
    }
   }
  }
 },
 "nbformat": 4,
 "nbformat_minor": 2
}
